{
 "cells": [
  {
   "cell_type": "markdown",
   "metadata": {},
   "source": [
    "# RLHF Trainining Pipeline for PPO Agent to Play Levels from the Doom Game"
   ]
  },
  {
   "cell_type": "code",
   "execution_count": 1,
   "metadata": {},
   "outputs": [
    {
     "name": "stderr",
     "output_type": "stream",
     "text": [
      "/Users/harish/opt/anaconda3/envs/doom-rlhf/lib/python3.9/site-packages/gymnasium/core.py:297: UserWarning: \u001b[33mWARN: env.num_envs to get variables from other wrappers is deprecated and will be removed in v1.0, to get this variable you can do `env.unwrapped.num_envs` for environment variables or `env.get_attr('num_envs')` that will search the reminding wrappers.\u001b[0m\n",
      "  logger.warn(\n"
     ]
    }
   ],
   "source": [
    "from utils.env import make_vizdoom_env\n",
    "import gymnasium as gym\n",
    "from datetime import datetime\n",
    "\n",
    "start_datetime = datetime.now()\n",
    "start_datetime_timestamp_str = start_datetime.strftime(\"%Y_%m_%d_%H_%M_%S\")\n",
    "\n",
    "# Initializing environments\n",
    "num_envs = 8\n",
    "envs = gym.vector.SyncVectorEnv(\n",
    "    [\n",
    "        make_vizdoom_env(\n",
    "            \"envs/vizdoom/scenarios/basic.cfg\",\n",
    "            #  render_mode='rgb_array',\n",
    "            #  record_episodes=True,\n",
    "            #  recording_save_path=f\"./temp\",\n",
    "            #  recording_file_prefix=f\"rl-pipeline-env-{i}\"\n",
    "        )\n",
    "        for i in range(num_envs)\n",
    "    ]\n",
    ")"
   ]
  },
  {
   "cell_type": "code",
   "execution_count": 2,
   "metadata": {},
   "outputs": [],
   "source": [
    "from torch.utils.tensorboard import SummaryWriter\n",
    "from agents.doom_ppo_agent import DoomPpoAgent\n",
    "from reward_predictors.cnn_reward_predictor import CnnRewardPredictor\n",
    "from utils.replay_buffer import ReplayBuffer\n",
    "from utils.time import current_timestamp_ms\n",
    "\n",
    "# Setting up agent and reward predictor\n",
    "agent = DoomPpoAgent(\n",
    "    envs.single_observation_space,\n",
    "    envs.single_action_space,\n",
    "    learning_rate=0.0001,\n",
    "    use_gpu=True,\n",
    ")\n",
    "reward_predictor = CnnRewardPredictor(envs.single_observation_space.shape, \n",
    "                                      envs.single_action_space.n if isinstance(envs.single_action_space, gym.spaces.Discrete) else envs.single_action_space.shape, \n",
    "                                      use_gpu=True)\n",
    "\n",
    "# Agent training config\n",
    "global_step = 0\n",
    "start_time = start_datetime.timestamp()\n",
    "num_steps = 256\n",
    "num_mini_batches = 32\n",
    "num_training_epochs = 10\n",
    "batch_size = int(num_envs * num_steps)\n",
    "mini_batch_size = batch_size // num_mini_batches\n",
    "\n",
    "num_batches_before_collecting_feedback = 1\n",
    "\n",
    "# Creating replay buffer for storing steps\n",
    "replay_buffer = ReplayBuffer(\n",
    "    num_steps, num_envs, envs.single_observation_space, envs.single_action_space\n",
    ")\n",
    "\n",
    "# Setting up debugging for Tensorboard\n",
    "tensorboard_writer = SummaryWriter(\n",
    "    f\"logs/ppo_agent/doom_basic_level/rlhf_training_{current_timestamp_ms()}\"\n",
    ")"
   ]
  },
  {
   "cell_type": "code",
   "execution_count": 3,
   "metadata": {},
   "outputs": [
    {
     "name": "stdout",
     "output_type": "stream",
     "text": [
      "observations.shape = (8, 4, 120, 160)\n",
      "observations.dtype = uint8\n",
      "observations.shape = torch.Size([8, 4, 120, 160])\n",
      "observations.dtype = torch.uint8\n"
     ]
    },
    {
     "ename": "",
     "evalue": "",
     "output_type": "error",
     "traceback": [
      "\u001b[1;31mCannot execute code, session has been disposed. Please try restarting the Kernel."
     ]
    },
    {
     "ename": "",
     "evalue": "",
     "output_type": "error",
     "traceback": [
      "\u001b[1;31mThe Kernel crashed while executing code in the the current cell or a previous cell. Please review the code in the cell(s) to identify a possible cause of the failure. Click <a href='https://aka.ms/vscodeJupyterKernelCrash'>here</a> for more info. View Jupyter <a href='command:jupyter.viewOutput'>log</a> for further details."
     ]
    }
   ],
   "source": [
    "import numpy as np\n",
    "import time\n",
    "\n",
    "observations, info = envs.reset()\n",
    "dones = [0 for _ in range(num_envs)]\n",
    "best_average_return = float(\"-inf\")\n",
    "returns = []\n",
    "reward_sums = np.zeros(num_envs, dtype=np.float32)\n",
    "\n",
    "while True:\n",
    "    # Calculating learning rate annealing coefficient\n",
    "    # learning_rate_anneal_coef = 1.0 - (update - 1.0) / num_updates\n",
    "\n",
    "    for step in range(0, num_steps):\n",
    "        global_step += num_envs\n",
    "\n",
    "        # Getting next action and it's value\n",
    "        actions, log_probs, probs, values = agent.forward(observations)\n",
    "        values = values.flatten()\n",
    "        \n",
    "        # Performing actions in the environments\n",
    "        observations_, _, dones_, truncation_statuses, info = envs.step(actions)\n",
    "\n",
    "        # Predicting reward for the observations and the corresponding actions\n",
    "        rewards = reward_predictor.forward(observations, actions)\n",
    "        reward_sums = reward_sums + rewards\n",
    "\n",
    "        # Saving transitions in replay buffer\n",
    "        replay_buffer[step] = (observations, actions, log_probs, rewards, values, dones)\n",
    "\n",
    "        # Saving new observation and done status for next step\n",
    "        observations = observations_\n",
    "        dones = dones_\n",
    "\n",
    "        # Record episodic returns\n",
    "        for index, done in enumerate(dones):\n",
    "            if done == 1:\n",
    "                reward_sum = reward_sums[index]\n",
    "                returns.append(reward_sums[index])\n",
    "                print(f\"global_step={global_step}, episodic_return={reward_sums[index]}\")\n",
    "\n",
    "                # Resetting rewards sum\n",
    "                reward_sums[index] = 0\n",
    "\n",
    "    # Checking if the current mean is higher than previous highest mean and saving the model\n",
    "    current_mean_episodic_return = np.mean(returns)\n",
    "    print(f\"Current Mean Episodic Return = {current_mean_episodic_return}\")\n",
    "    if current_mean_episodic_return > best_average_return:\n",
    "        # Saving the model\n",
    "        agent.save_models(\n",
    "            f\"./models/doom_ppo_agent/rl_pipeline/training_run_{start_datetime_timestamp_str}/checkpoint_step_{global_step}\"\n",
    "        )\n",
    "\n",
    "        # Saving new best average return and clearing returns arrays\n",
    "        best_average_return = current_mean_episodic_return\n",
    "        returns.clear()\n",
    "\n",
    "    # Training the agent\n",
    "    training_stats = agent.train(\n",
    "        replay_buffer=replay_buffer,\n",
    "        # learning_rate_anneal_coef=learning_rate_anneal_coef,\n",
    "        mini_batch_size=mini_batch_size,\n",
    "        num_training_epochs=num_training_epochs,\n",
    "    )\n",
    "\n",
    "    print(\"SPS:\", int(global_step / (time.time() - start_time)))\n",
    "\n",
    "    # tensorboard_writer.add_scalar(\"charts/learning_rate\", training_stats.learning_rate, global_step)\n",
    "    tensorboard_writer.add_scalar(\"losses/value_loss\", training_stats.value_loss, global_step)\n",
    "    tensorboard_writer.add_scalar(\"losses/policy_loss\", training_stats.policy_loss, global_step)\n",
    "    tensorboard_writer.add_scalar(\"losses/entropy_loss\", training_stats.entropy_loss, global_step)\n",
    "    tensorboard_writer.add_scalar(\"charts/old_approx_kl\", training_stats.old_approx_kl, global_step)\n",
    "    tensorboard_writer.add_scalar(\"charts/approx_kl\", training_stats.approx_kl, global_step)\n",
    "    tensorboard_writer.add_scalar(\"charts/clip_fraction\", training_stats.clip_fraction, global_step)\n",
    "    tensorboard_writer.add_scalar(\"charts/explained_variance\", training_stats.explained_variance, global_step)\n",
    "    tensorboard_writer.add_scalar(\"charts/SPS\", int(global_step / (time.time() - start_time)), global_step)"
   ]
  }
 ],
 "metadata": {
  "kernelspec": {
   "display_name": "doom-rlhf",
   "language": "python",
   "name": "python3"
  },
  "language_info": {
   "codemirror_mode": {
    "name": "ipython",
    "version": 3
   },
   "file_extension": ".py",
   "mimetype": "text/x-python",
   "name": "python",
   "nbconvert_exporter": "python",
   "pygments_lexer": "ipython3",
   "version": "3.9.7"
  },
  "orig_nbformat": 4
 },
 "nbformat": 4,
 "nbformat_minor": 2
}
