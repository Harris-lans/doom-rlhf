{
 "cells": [
  {
   "cell_type": "code",
   "execution_count": 1,
   "metadata": {},
   "outputs": [],
   "source": [
    "from utils.env import make_doom_env\n",
    "import gym\n",
    "\n",
    "num_envs = 8\n",
    "\n",
    "# Initializing environment\n",
    "envs = gym.vector.SyncVectorEnv(\n",
    "    [make_doom_env(level_config_path='vizdoom/scenarios/basic.cfg', render=False) for i in range(num_envs)]\n",
    ")\n"
   ]
  },
  {
   "cell_type": "code",
   "execution_count": 2,
   "metadata": {},
   "outputs": [
    {
     "name": "stdout",
     "output_type": "stream",
     "text": [
      "1688647770\n",
      "2023_07_06_18_19_30\n"
     ]
    }
   ],
   "source": [
    "import time\n",
    "from datetime import datetime\n",
    "# Testing observations by rendering  \n",
    "# from matplotlib import pyplot as plt\n",
    "# import cv2\n",
    "\n",
    "# frame = envs.reset();\n",
    "# plt.imshow(cv2.cvtColor(frame[0], cv2.COLOR_BGR2RGB))\n",
    "\n",
    "# from gym.spaces import Discrete\n",
    "\n",
    "# print(isinstance(envs.single_action_space, Discrete))\n",
    "# print(envs.reset().shape)\n",
    "print(round(time.time()))\n",
    "print(datetime.now().strftime('%Y_%m_%d_%H_%M_%S'))"
   ]
  },
  {
   "cell_type": "code",
   "execution_count": 3,
   "metadata": {},
   "outputs": [
    {
     "name": "stdout",
     "output_type": "stream",
     "text": [
      "Loading models...\n",
      "Successfully loaded models!\n",
      "Updating networks with weights from loaded models...\n",
      "Successfully updated networks!\n"
     ]
    }
   ],
   "source": [
    "from torch.utils.tensorboard import SummaryWriter\n",
    "from agents.ppo_agent import PpoAgent\n",
    "from utils.memory import Memory\n",
    "from utils.time import current_timestamp_ms\n",
    "from datetime import datetime\n",
    "\n",
    "# Setting up agent\n",
    "agent = PpoAgent(envs.single_observation_space, \n",
    "                 envs.single_action_space, \n",
    "                 models_path='./models/run_2023_07_06_18_03_26_step_4096', \n",
    "                 learning_rate=0.0001)\n",
    "\n",
    "# Setting up agent training config\n",
    "global_step = 0\n",
    "start_datetime = datetime.now()\n",
    "start_time = start_datetime.timestamp()\n",
    "num_steps = 256\n",
    "num_mini_batches = 32\n",
    "num_training_epochs=10\n",
    "batch_size = int(num_envs * num_steps)\n",
    "mini_batch_size = batch_size // num_mini_batches\n",
    "total_timesteps = 10000000\n",
    "num_updates = total_timesteps // batch_size\n",
    "checkpoint_frequency = 3000\n",
    "memory = Memory(agent.device, num_steps, num_envs, envs.single_observation_space.shape, envs.single_action_space.shape)\n",
    "\n",
    "# Setting up debugging for Tensorboard\n",
    "tensorboard_writer = SummaryWriter(f\"logs/doom_basic_level_training_log_{current_timestamp_ms()}\")"
   ]
  },
  {
   "cell_type": "code",
   "execution_count": 6,
   "metadata": {},
   "outputs": [
    {
     "name": "stdout",
     "output_type": "stream",
     "text": [
      "global_step=56, episodic_return=75.0\n",
      "global_step=192, episodic_return=-15.0\n",
      "global_step=240, episodic_return=72.0\n",
      "global_step=248, episodic_return=-46.0\n",
      "global_step=320, episodic_return=-94.0\n",
      "global_step=352, episodic_return=87.0\n",
      "global_step=368, episodic_return=95.0\n",
      "global_step=376, episodic_return=-130.0\n"
     ]
    },
    {
     "ename": "KeyboardInterrupt",
     "evalue": "",
     "output_type": "error",
     "traceback": [
      "\u001b[0;31m---------------------------------------------------------------------------\u001b[0m",
      "\u001b[0;31mKeyboardInterrupt\u001b[0m                         Traceback (most recent call last)",
      "Cell \u001b[0;32mIn[6], line 20\u001b[0m\n\u001b[1;32m     17\u001b[0m     action, log_prob, _, value \u001b[39m=\u001b[39m agent\u001b[39m.\u001b[39mget_optimal_action_and_value(observation)\n\u001b[1;32m     18\u001b[0m     value \u001b[39m=\u001b[39m value\u001b[39m.\u001b[39mflatten()\n\u001b[0;32m---> 20\u001b[0m observation_, reward, done_, info \u001b[39m=\u001b[39m envs\u001b[39m.\u001b[39;49mstep(action\u001b[39m.\u001b[39;49mcpu()\u001b[39m.\u001b[39;49mnumpy())\n\u001b[1;32m     22\u001b[0m \u001b[39m# Saving experience in memory\u001b[39;00m\n\u001b[1;32m     23\u001b[0m memory\u001b[39m.\u001b[39mremember(\n\u001b[1;32m     24\u001b[0m     step\u001b[39m=\u001b[39mstep, \n\u001b[1;32m     25\u001b[0m     observation\u001b[39m=\u001b[39m observation,\n\u001b[0;32m   (...)\u001b[0m\n\u001b[1;32m     30\u001b[0m     done\u001b[39m=\u001b[39mdone\n\u001b[1;32m     31\u001b[0m )\n",
      "File \u001b[0;32m~/opt/anaconda3/envs/doom-rlhf/lib/python3.9/site-packages/gym/vector/vector_env.py:94\u001b[0m, in \u001b[0;36mVectorEnv.step\u001b[0;34m(self, actions)\u001b[0m\n\u001b[1;32m     71\u001b[0m \u001b[39m\u001b[39m\u001b[39mr\u001b[39m\u001b[39m\"\"\"Take an action for each sub-environments.\u001b[39;00m\n\u001b[1;32m     72\u001b[0m \n\u001b[1;32m     73\u001b[0m \u001b[39mParameters\u001b[39;00m\n\u001b[0;32m   (...)\u001b[0m\n\u001b[1;32m     90\u001b[0m \u001b[39m    A list of auxiliary diagnostic information dicts from sub-environments.\u001b[39;00m\n\u001b[1;32m     91\u001b[0m \u001b[39m\"\"\"\u001b[39;00m\n\u001b[1;32m     93\u001b[0m \u001b[39mself\u001b[39m\u001b[39m.\u001b[39mstep_async(actions)\n\u001b[0;32m---> 94\u001b[0m \u001b[39mreturn\u001b[39;00m \u001b[39mself\u001b[39;49m\u001b[39m.\u001b[39;49mstep_wait()\n",
      "File \u001b[0;32m~/opt/anaconda3/envs/doom-rlhf/lib/python3.9/site-packages/gym/vector/sync_vector_env.py:83\u001b[0m, in \u001b[0;36mSyncVectorEnv.step_wait\u001b[0;34m(self)\u001b[0m\n\u001b[1;32m     81\u001b[0m observations, infos \u001b[39m=\u001b[39m [], []\n\u001b[1;32m     82\u001b[0m \u001b[39mfor\u001b[39;00m i, (env, action) \u001b[39min\u001b[39;00m \u001b[39menumerate\u001b[39m(\u001b[39mzip\u001b[39m(\u001b[39mself\u001b[39m\u001b[39m.\u001b[39menvs, \u001b[39mself\u001b[39m\u001b[39m.\u001b[39m_actions)):\n\u001b[0;32m---> 83\u001b[0m     observation, \u001b[39mself\u001b[39m\u001b[39m.\u001b[39m_rewards[i], \u001b[39mself\u001b[39m\u001b[39m.\u001b[39m_dones[i], info \u001b[39m=\u001b[39m env\u001b[39m.\u001b[39;49mstep(action)\n\u001b[1;32m     84\u001b[0m     \u001b[39mif\u001b[39;00m \u001b[39mself\u001b[39m\u001b[39m.\u001b[39m_dones[i]:\n\u001b[1;32m     85\u001b[0m         observation \u001b[39m=\u001b[39m env\u001b[39m.\u001b[39mreset()\n",
      "File \u001b[0;32m~/opt/anaconda3/envs/doom-rlhf/lib/python3.9/site-packages/gym/wrappers/frame_stack.py:115\u001b[0m, in \u001b[0;36mFrameStack.step\u001b[0;34m(self, action)\u001b[0m\n\u001b[1;32m    114\u001b[0m \u001b[39mdef\u001b[39;00m \u001b[39mstep\u001b[39m(\u001b[39mself\u001b[39m, action):\n\u001b[0;32m--> 115\u001b[0m     observation, reward, done, info \u001b[39m=\u001b[39m \u001b[39mself\u001b[39;49m\u001b[39m.\u001b[39;49menv\u001b[39m.\u001b[39;49mstep(action)\n\u001b[1;32m    116\u001b[0m     \u001b[39mself\u001b[39m\u001b[39m.\u001b[39mframes\u001b[39m.\u001b[39mappend(observation)\n\u001b[1;32m    117\u001b[0m     \u001b[39mreturn\u001b[39;00m \u001b[39mself\u001b[39m\u001b[39m.\u001b[39mobservation(), reward, done, info\n",
      "File \u001b[0;32m~/opt/anaconda3/envs/doom-rlhf/lib/python3.9/site-packages/gym/wrappers/record_episode_statistics.py:26\u001b[0m, in \u001b[0;36mRecordEpisodeStatistics.step\u001b[0;34m(self, action)\u001b[0m\n\u001b[1;32m     25\u001b[0m \u001b[39mdef\u001b[39;00m \u001b[39mstep\u001b[39m(\u001b[39mself\u001b[39m, action):\n\u001b[0;32m---> 26\u001b[0m     observations, rewards, dones, infos \u001b[39m=\u001b[39m \u001b[39msuper\u001b[39;49m(RecordEpisodeStatistics, \u001b[39mself\u001b[39;49m)\u001b[39m.\u001b[39;49mstep(\n\u001b[1;32m     27\u001b[0m         action\n\u001b[1;32m     28\u001b[0m     )\n\u001b[1;32m     29\u001b[0m     \u001b[39mself\u001b[39m\u001b[39m.\u001b[39mepisode_returns \u001b[39m+\u001b[39m\u001b[39m=\u001b[39m rewards\n\u001b[1;32m     30\u001b[0m     \u001b[39mself\u001b[39m\u001b[39m.\u001b[39mepisode_lengths \u001b[39m+\u001b[39m\u001b[39m=\u001b[39m \u001b[39m1\u001b[39m\n",
      "File \u001b[0;32m~/opt/anaconda3/envs/doom-rlhf/lib/python3.9/site-packages/gym/core.py:289\u001b[0m, in \u001b[0;36mWrapper.step\u001b[0;34m(self, action)\u001b[0m\n\u001b[1;32m    288\u001b[0m \u001b[39mdef\u001b[39;00m \u001b[39mstep\u001b[39m(\u001b[39mself\u001b[39m, action):\n\u001b[0;32m--> 289\u001b[0m     \u001b[39mreturn\u001b[39;00m \u001b[39mself\u001b[39;49m\u001b[39m.\u001b[39;49menv\u001b[39m.\u001b[39;49mstep(action)\n",
      "File \u001b[0;32m~/Documents/Study/University of London/Semester 6/Final Project/doom-rlhf/envs/doom_env.py:34\u001b[0m, in \u001b[0;36mDoomEnv.step\u001b[0;34m(self, action)\u001b[0m\n\u001b[1;32m     32\u001b[0m \u001b[39mdef\u001b[39;00m \u001b[39mstep\u001b[39m(\u001b[39mself\u001b[39m, action):\n\u001b[1;32m     33\u001b[0m     actions \u001b[39m=\u001b[39m np\u001b[39m.\u001b[39midentity(ACTION_SPACE_SIZE, dtype\u001b[39m=\u001b[39mnp\u001b[39m.\u001b[39muint8)\n\u001b[0;32m---> 34\u001b[0m     reward \u001b[39m=\u001b[39m \u001b[39mself\u001b[39;49m\u001b[39m.\u001b[39;49mgame\u001b[39m.\u001b[39;49mmake_action(actions[action], FRAMES_TO_SKIP)\n\u001b[1;32m     35\u001b[0m     state \u001b[39m=\u001b[39m \u001b[39mself\u001b[39m\u001b[39m.\u001b[39mgame\u001b[39m.\u001b[39mget_state()\n\u001b[1;32m     36\u001b[0m     done \u001b[39m=\u001b[39m \u001b[39mself\u001b[39m\u001b[39m.\u001b[39mgame\u001b[39m.\u001b[39mis_episode_finished()\n",
      "\u001b[0;31mKeyboardInterrupt\u001b[0m: "
     ]
    }
   ],
   "source": [
    "import torch\n",
    "import numpy as np\n",
    "\n",
    "observation = torch.Tensor(envs.reset()).to(agent.device)\n",
    "done = torch.zeros(num_envs).to(agent.device)\n",
    "last_checkpoint_step = 0\n",
    "\n",
    "for update in range(1, num_updates + 1):\n",
    "    # Calculating learning rate annealing coefficient\n",
    "    learning_rate_anneal_coef = 1.0 - (update - 1.0) / num_updates\n",
    "\n",
    "    for step in range(0, num_steps):\n",
    "        global_step += num_envs\n",
    "\n",
    "        # Getting next action and it's value\n",
    "        with torch.no_grad():\n",
    "            action, log_prob, _, value = agent.get_optimal_action_and_value(observation)\n",
    "            value = value.flatten()\n",
    "\n",
    "        observation_, reward, done_, info = envs.step(action.cpu().numpy())\n",
    "\n",
    "        # Saving experience in memory\n",
    "        memory.remember(\n",
    "            step=step, \n",
    "            observation= observation,\n",
    "            action=action,\n",
    "            value=value,\n",
    "            log_prob=log_prob,\n",
    "            reward=torch.tensor(np.array(reward, dtype=np.float32)).to(agent.device).view(-1),\n",
    "            done=done\n",
    "        )\n",
    "\n",
    "        # Saving new observation and done status for next step\n",
    "        observation = torch.Tensor(observation_).to(agent.device) \n",
    "        done =  torch.Tensor(done_).to(agent.device)\n",
    "\n",
    "        # Writing step debug info to TensorBoard\n",
    "        for item in info:\n",
    "            if \"episode\" in item.keys():\n",
    "                print(f\"global_step={global_step}, episodic_return={item['episode']['r']}\")\n",
    "                tensorboard_writer.add_scalar(\"charts/episodic_return\", item[\"episode\"][\"r\"], global_step)\n",
    "                tensorboard_writer.add_scalar(\"charts/episodic_length\", item[\"episode\"][\"l\"], global_step)\n",
    "                break\n",
    "\n",
    "    training_stats = agent.train(\n",
    "        next_observation=observation,\n",
    "        next_done=done,\n",
    "        observations=memory.observations,\n",
    "        actions=memory.actions,\n",
    "        log_probs=memory.log_probs,\n",
    "        rewards=memory.rewards,\n",
    "        values=memory.values,\n",
    "        dones=memory.dones,\n",
    "        num_steps=num_steps,\n",
    "        batch_size=batch_size,\n",
    "        learning_rate_anneal_coef=learning_rate_anneal_coef,\n",
    "        mini_batch_size=mini_batch_size,\n",
    "        num_training_epochs=num_training_epochs\n",
    "    )\n",
    "\n",
    "    print(\"SPS:\", int(global_step / (time.time() - start_time)))\n",
    "\n",
    "    tensorboard_writer.add_scalar(\"charts/learning_rate\", training_stats.learning_rate, global_step)\n",
    "    tensorboard_writer.add_scalar(\"losses/value_loss\", training_stats.value_loss, global_step)\n",
    "    tensorboard_writer.add_scalar(\"losses/policy_loss\", training_stats.policy_loss, global_step)\n",
    "    tensorboard_writer.add_scalar(\"losses/entropy_loss\", training_stats.entropy_loss, global_step)\n",
    "    tensorboard_writer.add_scalar(\"charts/old_approx_kl\", training_stats.old_approx_kl, global_step)\n",
    "    tensorboard_writer.add_scalar(\"charts/approx_kl\", training_stats.approx_kl, global_step)\n",
    "    tensorboard_writer.add_scalar(\"charts/clip_fraction\", training_stats.clip_fraction, global_step)\n",
    "    tensorboard_writer.add_scalar(\"charts/explained_variance\", training_stats.explained_variance, global_step)\n",
    "    tensorboard_writer.add_scalar(\"charts/SPS\", int(global_step / (time.time() - start_time)), global_step)\n",
    "\n",
    "    # Saving the model at regular checkpoints\n",
    "    agent.save_models(f\"./models/run_{start_datetime.strftime('%Y_%m_%d_%H_%M_%S')}_step_{global_step}\")\n"
   ]
  },
  {
   "cell_type": "code",
   "execution_count": null,
   "metadata": {},
   "outputs": [],
   "source": [
    "# Saving models\n",
    "agent.save_models()"
   ]
  },
  {
   "cell_type": "code",
   "execution_count": 4,
   "metadata": {},
   "outputs": [],
   "source": [
    "# Closing environments\n",
    "envs.close()\n",
    "# Closing tensorboard writer\n",
    "tensorboard_writer.close()"
   ]
  }
 ],
 "metadata": {
  "kernelspec": {
   "display_name": "final-project",
   "language": "python",
   "name": "python3"
  },
  "language_info": {
   "codemirror_mode": {
    "name": "ipython",
    "version": 3
   },
   "file_extension": ".py",
   "mimetype": "text/x-python",
   "name": "python",
   "nbconvert_exporter": "python",
   "pygments_lexer": "ipython3",
   "version": "3.9.7"
  },
  "orig_nbformat": 4
 },
 "nbformat": 4,
 "nbformat_minor": 2
}
