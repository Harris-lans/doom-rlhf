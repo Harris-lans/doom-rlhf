{
 "cells": [
  {
   "cell_type": "code",
   "execution_count": 16,
   "metadata": {},
   "outputs": [],
   "source": [
    "from utils.env import make_doom_env\n",
    "import gym\n",
    "\n",
    "# Initializing environment\n",
    "envs = gym.vector.AsyncVectorEnv(\n",
    "    [make_doom_env(level_config_path='vizdoom/scenarios/basic.cfg')]\n",
    ")\n"
   ]
  },
  {
   "cell_type": "code",
   "execution_count": 9,
   "metadata": {},
   "outputs": [],
   "source": [
    "# Testing observations by rendering  \n",
    "from matplotlib import pyplot as plt\n",
    "import cv2\n",
    "\n",
    "frame = envs.reset();\n",
    "plt.imshow(cv2.cvtColor(frame[0], cv2.COLOR_BGR2RGB))"
   ]
  },
  {
   "cell_type": "code",
   "execution_count": 3,
   "metadata": {},
   "outputs": [
    {
     "ename": "TypeError",
     "evalue": "unsupported operand type(s) for /: 'tuple' and 'int'",
     "output_type": "error",
     "traceback": [
      "\u001b[0;31m---------------------------------------------------------------------------\u001b[0m",
      "\u001b[0;31mTypeError\u001b[0m                                 Traceback (most recent call last)",
      "Cell \u001b[0;32mIn[3], line 2\u001b[0m\n\u001b[1;32m      1\u001b[0m observation_shape \u001b[39m=\u001b[39m env\u001b[39m.\u001b[39mgame\u001b[39m.\u001b[39mget_state()\u001b[39m.\u001b[39mscreen_buffer\u001b[39m.\u001b[39mshape\n\u001b[0;32m----> 2\u001b[0m \u001b[39mprint\u001b[39m(observation_shape \u001b[39m/\u001b[39;49m \u001b[39m2\u001b[39;49m)\n\u001b[1;32m      3\u001b[0m \u001b[39m# observation_shape = observation_shape[1:] + (1, )\u001b[39;00m\n\u001b[1;32m      4\u001b[0m \u001b[39m# print(observation_shape)\u001b[39;00m\n",
      "\u001b[0;31mTypeError\u001b[0m: unsupported operand type(s) for /: 'tuple' and 'int'"
     ]
    }
   ],
   "source": [
    "from torch.utils.tensorboard import SummaryWriter\n",
    "from agents.ppo_agent import PpoAgent\n",
    "from utils.memory import Memory\n",
    "from utils.time import current_timestamp_ms\n",
    "import time\n",
    "\n",
    "# Setting up agent\n",
    "agent = PpoAgent(envs.observation_space, envs.action_space)\n",
    "\n",
    "# Setting up agent training config\n",
    "global_step = 0\n",
    "start_time = time.time()\n",
    "num_envs = envs.num_envs\n",
    "num_steps = 128\n",
    "num_mini_batches = 4\n",
    "batch_size = int(num_envs * num_steps)\n",
    "mini_batch_size = int(batch_size / num_mini_batches)\n",
    "total_timesteps = 10000000\n",
    "num_updates = total_timesteps / batch_size\n",
    "memory = Memory(agent.device, num_steps, num_envs, envs.observation_space.shape, envs.action_space.shape)\n",
    "\n",
    "# Setting up debugging for Tensorboard\n",
    "tensorboard_writer = SummaryWriter(f\"runs/run_{current_timestamp_ms()}\")"
   ]
  },
  {
   "cell_type": "code",
   "execution_count": 4,
   "metadata": {},
   "outputs": [
    {
     "name": "stdout",
     "output_type": "stream",
     "text": [
      "creating actor network...\n",
      "Metal device set to: Apple M1 Max\n",
      "\n",
      "systemMemory: 32.00 GB\n",
      "maxCacheSize: 10.67 GB\n",
      "\n",
      "successfully created actor network!\n",
      "creating critic network...\n"
     ]
    },
    {
     "name": "stderr",
     "output_type": "stream",
     "text": [
      "WARNING:absl:At this time, the v2.11+ optimizer `tf.keras.optimizers.Adam` runs slowly on M1/M2 Macs, please use the legacy Keras optimizer instead, located at `tf.keras.optimizers.legacy.Adam`.\n",
      "WARNING:absl:There is a known slowdown when using v2.11+ Keras optimizers on M1/M2 Macs. Falling back to the legacy Keras optimizer, i.e., `tf.keras.optimizers.legacy.Adam`.\n",
      "WARNING:absl:At this time, the v2.11+ optimizer `tf.keras.optimizers.Adam` runs slowly on M1/M2 Macs, please use the legacy Keras optimizer instead, located at `tf.keras.optimizers.legacy.Adam`.\n",
      "WARNING:absl:There is a known slowdown when using v2.11+ Keras optimizers on M1/M2 Macs. Falling back to the legacy Keras optimizer, i.e., `tf.keras.optimizers.legacy.Adam`.\n"
     ]
    },
    {
     "name": "stdout",
     "output_type": "stream",
     "text": [
      "successfully created critic network!\n",
      "creating optimizer for actor network...\n",
      "successfully created optimizer for actor network!\n",
      "creating optimizer for critic network...\n",
      "successfully created optimizer for critic network!\n"
     ]
    }
   ],
   "source": [
    "import torch\n",
    "\n",
    "observation = torch.Tensor(envs.reset()).to(agent.device)\n",
    "done = torch.zeros(num_envs).to(agent.device)\n",
    "\n",
    "for update in range(1, num_updates + 1):\n",
    "    # Calculating learning rate annealing coefficient\n",
    "    learning_rate_anneal_coef = 1.0 - (update - 1.0) / num_updates\n",
    "\n",
    "    for step in range(0, num_steps):\n",
    "        global_step += num_envs\n",
    "\n",
    "        # Getting next action and it's value\n",
    "        with torch.no_grad():\n",
    "            action, log_prob, _, value = agent.get_optimal_action_and_value(observation)\n",
    "            value = value.flatten()\n",
    "\n",
    "        observation_, reward, done_, info = envs.step(action.cpu().numpy())\n",
    "\n",
    "        # Saving experience in memory\n",
    "        memory.remember(\n",
    "            step=step, \n",
    "            observation= observation,\n",
    "            action=action,\n",
    "            log_prob=log_prob,\n",
    "            reward=torch.tensor(reward).to(agent.device).view(-1),\n",
    "            done=done\n",
    "        )\n",
    "\n",
    "        # Saving new observation and done status for next step\n",
    "        observation, done = torch.Tensor(observation_).to(agent.device), torch.Tensor(done_).to(agent.device)\n",
    "\n",
    "        # Writing step debug info to TensorBoard\n",
    "        for item in info:\n",
    "                if \"episode\" in item.keys():\n",
    "                    print(f\"global_step={global_step}, episodic_return={item['episode']['r']}\")\n",
    "                    tensorboard_writer.add_scalar(\"charts/episodic_return\", item[\"episode\"][\"r\"], global_step)\n",
    "                    tensorboard_writer.add_scalar(\"charts/episodic_length\", item[\"episode\"][\"l\"], global_step)\n",
    "                    break\n",
    "\n",
    "        training_stats = agent.train(\n",
    "            memory.observations,\n",
    "            memory.actions,\n",
    "            memory.log_probs,\n",
    "            memory.rewards,\n",
    "            memory.values,\n",
    "            memory.dones,\n",
    "            batch_size\n",
    "        )\n",
    "\n",
    "        print(\"SPS:\", int(global_step / (time.time() - start_time)))\n",
    "\n",
    "        tensorboard_writer.add_scalar(\"charts/learning_rate\", training_stats.learning_rate, global_step)\n",
    "        tensorboard_writer.add_scalar(\"losses/value_loss\", training_stats.value_loss, global_step)\n",
    "        tensorboard_writer.add_scalar(\"losses/policy_loss\", training_stats.policy_loss, global_step)\n",
    "        tensorboard_writer.add_scalar(\"losses/entropy_loss\", training_stats.entropy_loss, global_step)\n",
    "        tensorboard_writer.add_scalar(\"charts/old_approx_kl\", training_stats.old_approx_kl, global_step)\n",
    "        tensorboard_writer.add_scalar(\"charts/approx_kl\", training_stats.approx_kl, global_step)\n",
    "        tensorboard_writer.add_scalar(\"charts/clip_fraction\", training_stats.clip_fraction, global_step)\n",
    "        tensorboard_writer.add_scalar(\"charts/explained_variance\", training_stats.explained_variance, global_step)\n",
    "        tensorboard_writer.add_scalar(\"charts/SPS\", int(global_step / (time.time() - start_time)), global_step)\n"
   ]
  },
  {
   "cell_type": "code",
   "execution_count": 19,
   "metadata": {},
   "outputs": [],
   "source": [
    "# Closing environments\n",
    "envs.close()\n",
    "# Closing tensorboard writer\n",
    "tensorboard_writer.close()"
   ]
  }
 ],
 "metadata": {
  "kernelspec": {
   "display_name": "final-project",
   "language": "python",
   "name": "python3"
  },
  "language_info": {
   "codemirror_mode": {
    "name": "ipython",
    "version": 3
   },
   "file_extension": ".py",
   "mimetype": "text/x-python",
   "name": "python",
   "nbconvert_exporter": "python",
   "pygments_lexer": "ipython3",
   "version": "3.9.7"
  },
  "orig_nbformat": 4
 },
 "nbformat": 4,
 "nbformat_minor": 2
}
