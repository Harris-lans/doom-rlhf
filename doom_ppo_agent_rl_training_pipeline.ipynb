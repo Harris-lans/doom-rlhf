{
 "cells": [
  {
   "cell_type": "markdown",
   "metadata": {},
   "source": [
    "# Regular RL Trainining Pipeline for PPO Agent to Play Levels from the Doom Game"
   ]
  },
  {
   "cell_type": "code",
   "execution_count": 1,
   "metadata": {},
   "outputs": [
    {
     "name": "stderr",
     "output_type": "stream",
     "text": [
      "/Users/harish/Documents/Study/University of London/Semester 6/Final Project/doom-rlhf/envs/vizdoom_env.py:82: UserWarning: Detected screen format CRCGCB. Only RGB24 and GRAY8 are supported in the Gymnasium wrapper. Forcing RGB24.\n",
      "  warnings.warn(\n",
      "/Users/harish/opt/anaconda3/envs/doom-rlhf/lib/python3.9/site-packages/gymnasium/core.py:297: UserWarning: \u001b[33mWARN: env.num_envs to get variables from other wrappers is deprecated and will be removed in v1.0, to get this variable you can do `env.unwrapped.num_envs` for environment variables or `env.get_attr('num_envs')` that will search the reminding wrappers.\u001b[0m\n",
      "  logger.warn(\n"
     ]
    }
   ],
   "source": [
    "from utils.env import make_vizdoom_env\n",
    "import gymnasium as gym\n",
    "\n",
    "# Initializing environments\n",
    "num_envs = 8\n",
    "envs = gym.vector.SyncVectorEnv([ make_vizdoom_env(level='vizdoom/scenarios/basic.cfg') for i in range(1, num_envs)])\n"
   ]
  },
  {
   "cell_type": "code",
   "execution_count": 3,
   "metadata": {},
   "outputs": [],
   "source": [
    "from torch.utils.tensorboard import SummaryWriter\n",
    "from agents.doom_ppo_agent import DoomPpoAgent\n",
    "from utils.memory import Memory\n",
    "from utils.time import current_timestamp_ms\n",
    "from datetime import datetime\n",
    "import torch\n",
    "\n",
    "# Prefering GPU\n",
    "if torch.cuda.is_available():\n",
    "    device = torch.device(\"cuda\")\n",
    "elif torch.has_mps:\n",
    "    device = torch.device(\"mps\")\n",
    "else:\n",
    "    device = torch.device(\"cpu\")\n",
    "\n",
    "# Setting up agent\n",
    "agent = DoomPpoAgent(envs.single_observation_space, \n",
    "                     envs.single_action_space, \n",
    "                     # models_path='./models/run_2023_07_06_18_03_26_step_4096', \n",
    "                     learning_rate=0.0001)\n",
    "agent.to(device)\n",
    "\n",
    "# Setting up agent training config\n",
    "global_step = 0\n",
    "start_datetime = datetime.now()\n",
    "start_time = start_datetime.timestamp()\n",
    "num_steps = 256\n",
    "num_mini_batches = 32\n",
    "num_training_epochs=10\n",
    "batch_size = int(num_envs * num_steps)\n",
    "mini_batch_size = batch_size // num_mini_batches\n",
    "total_timesteps = 300000\n",
    "num_updates = total_timesteps // batch_size\n",
    "memory = Memory(device, num_steps, num_envs, envs.single_observation_space.shape, envs.single_action_space.shape)\n",
    "\n",
    "# Setting up debugging for Tensorboard\n",
    "tensorboard_writer = SummaryWriter(f\"logs/doom_basic_level/ppo_agent_training_{current_timestamp_ms()}\")"
   ]
  },
  {
   "cell_type": "code",
   "execution_count": 4,
   "metadata": {},
   "outputs": [
    {
     "ename": "error",
     "evalue": "OpenCV(4.7.0) :-1: error: (-5:Bad argument) in function 'resize'\n> Overload resolution failed:\n>  - src is not a numpy array, neither a scalar\n>  - Expected Ptr<cv::UMat> for argument 'src'\n",
     "output_type": "error",
     "traceback": [
      "\u001b[0;31m---------------------------------------------------------------------------\u001b[0m",
      "\u001b[0;31merror\u001b[0m                                     Traceback (most recent call last)",
      "Cell \u001b[0;32mIn[4], line 5\u001b[0m\n\u001b[1;32m      2\u001b[0m \u001b[39mimport\u001b[39;00m \u001b[39mnumpy\u001b[39;00m \u001b[39mas\u001b[39;00m \u001b[39mnp\u001b[39;00m\n\u001b[1;32m      3\u001b[0m \u001b[39mimport\u001b[39;00m \u001b[39mtime\u001b[39;00m\n\u001b[0;32m----> 5\u001b[0m observation \u001b[39m=\u001b[39m torch\u001b[39m.\u001b[39mTensor(envs\u001b[39m.\u001b[39;49mreset())\u001b[39m.\u001b[39mto(device)\n\u001b[1;32m      6\u001b[0m done \u001b[39m=\u001b[39m torch\u001b[39m.\u001b[39mzeros(num_envs)\u001b[39m.\u001b[39mto(device)\n\u001b[1;32m      7\u001b[0m best_average_return \u001b[39m=\u001b[39m \u001b[39mfloat\u001b[39m(\u001b[39m'\u001b[39m\u001b[39m-inf\u001b[39m\u001b[39m'\u001b[39m)\n",
      "File \u001b[0;32m~/opt/anaconda3/envs/doom-rlhf/lib/python3.9/site-packages/gymnasium/vector/vector_env.py:139\u001b[0m, in \u001b[0;36mVectorEnv.reset\u001b[0;34m(self, seed, options)\u001b[0m\n\u001b[1;32m    120\u001b[0m \u001b[39m\u001b[39m\u001b[39m\"\"\"Reset all parallel environments and return a batch of initial observations and info.\u001b[39;00m\n\u001b[1;32m    121\u001b[0m \n\u001b[1;32m    122\u001b[0m \u001b[39mArgs:\u001b[39;00m\n\u001b[0;32m   (...)\u001b[0m\n\u001b[1;32m    136\u001b[0m \u001b[39m          dtype=float32), {})\u001b[39;00m\n\u001b[1;32m    137\u001b[0m \u001b[39m\"\"\"\u001b[39;00m\n\u001b[1;32m    138\u001b[0m \u001b[39mself\u001b[39m\u001b[39m.\u001b[39mreset_async(seed\u001b[39m=\u001b[39mseed, options\u001b[39m=\u001b[39moptions)\n\u001b[0;32m--> 139\u001b[0m \u001b[39mreturn\u001b[39;00m \u001b[39mself\u001b[39;49m\u001b[39m.\u001b[39;49mreset_wait(seed\u001b[39m=\u001b[39;49mseed, options\u001b[39m=\u001b[39;49moptions)\n",
      "File \u001b[0;32m~/opt/anaconda3/envs/doom-rlhf/lib/python3.9/site-packages/gymnasium/vector/sync_vector_env.py:122\u001b[0m, in \u001b[0;36mSyncVectorEnv.reset_wait\u001b[0;34m(self, seed, options)\u001b[0m\n\u001b[1;32m    119\u001b[0m \u001b[39mif\u001b[39;00m options \u001b[39mis\u001b[39;00m \u001b[39mnot\u001b[39;00m \u001b[39mNone\u001b[39;00m:\n\u001b[1;32m    120\u001b[0m     kwargs[\u001b[39m\"\u001b[39m\u001b[39moptions\u001b[39m\u001b[39m\"\u001b[39m] \u001b[39m=\u001b[39m options\n\u001b[0;32m--> 122\u001b[0m observation, info \u001b[39m=\u001b[39m env\u001b[39m.\u001b[39;49mreset(\u001b[39m*\u001b[39;49m\u001b[39m*\u001b[39;49mkwargs)\n\u001b[1;32m    123\u001b[0m observations\u001b[39m.\u001b[39mappend(observation)\n\u001b[1;32m    124\u001b[0m infos \u001b[39m=\u001b[39m \u001b[39mself\u001b[39m\u001b[39m.\u001b[39m_add_info(infos, info, i)\n",
      "File \u001b[0;32m~/opt/anaconda3/envs/doom-rlhf/lib/python3.9/site-packages/gymnasium/wrappers/frame_stack.py:192\u001b[0m, in \u001b[0;36mFrameStack.reset\u001b[0;34m(self, **kwargs)\u001b[0m\n\u001b[1;32m    183\u001b[0m \u001b[39mdef\u001b[39;00m \u001b[39mreset\u001b[39m(\u001b[39mself\u001b[39m, \u001b[39m*\u001b[39m\u001b[39m*\u001b[39mkwargs):\n\u001b[1;32m    184\u001b[0m \u001b[39m    \u001b[39m\u001b[39m\"\"\"Reset the environment with kwargs.\u001b[39;00m\n\u001b[1;32m    185\u001b[0m \n\u001b[1;32m    186\u001b[0m \u001b[39m    Args:\u001b[39;00m\n\u001b[0;32m   (...)\u001b[0m\n\u001b[1;32m    190\u001b[0m \u001b[39m        The stacked observations\u001b[39;00m\n\u001b[1;32m    191\u001b[0m \u001b[39m    \"\"\"\u001b[39;00m\n\u001b[0;32m--> 192\u001b[0m     obs, info \u001b[39m=\u001b[39m \u001b[39mself\u001b[39;49m\u001b[39m.\u001b[39;49menv\u001b[39m.\u001b[39;49mreset(\u001b[39m*\u001b[39;49m\u001b[39m*\u001b[39;49mkwargs)\n\u001b[1;32m    194\u001b[0m     [\u001b[39mself\u001b[39m\u001b[39m.\u001b[39mframes\u001b[39m.\u001b[39mappend(obs) \u001b[39mfor\u001b[39;00m _ \u001b[39min\u001b[39;00m \u001b[39mrange\u001b[39m(\u001b[39mself\u001b[39m\u001b[39m.\u001b[39mnum_stack)]\n\u001b[1;32m    196\u001b[0m     \u001b[39mreturn\u001b[39;00m \u001b[39mself\u001b[39m\u001b[39m.\u001b[39mobservation(\u001b[39mNone\u001b[39;00m), info\n",
      "File \u001b[0;32m~/opt/anaconda3/envs/doom-rlhf/lib/python3.9/site-packages/gymnasium/core.py:501\u001b[0m, in \u001b[0;36mObservationWrapper.reset\u001b[0;34m(self, seed, options)\u001b[0m\n\u001b[1;32m    497\u001b[0m \u001b[39mdef\u001b[39;00m \u001b[39mreset\u001b[39m(\n\u001b[1;32m    498\u001b[0m     \u001b[39mself\u001b[39m, \u001b[39m*\u001b[39m, seed: \u001b[39mint\u001b[39m \u001b[39m|\u001b[39m \u001b[39mNone\u001b[39;00m \u001b[39m=\u001b[39m \u001b[39mNone\u001b[39;00m, options: \u001b[39mdict\u001b[39m[\u001b[39mstr\u001b[39m, Any] \u001b[39m|\u001b[39m \u001b[39mNone\u001b[39;00m \u001b[39m=\u001b[39m \u001b[39mNone\u001b[39;00m\n\u001b[1;32m    499\u001b[0m ) \u001b[39m-\u001b[39m\u001b[39m>\u001b[39m \u001b[39mtuple\u001b[39m[WrapperObsType, \u001b[39mdict\u001b[39m[\u001b[39mstr\u001b[39m, Any]]:\n\u001b[1;32m    500\u001b[0m \u001b[39m    \u001b[39m\u001b[39m\"\"\"Modifies the :attr:`env` after calling :meth:`reset`, returning a modified observation using :meth:`self.observation`.\"\"\"\u001b[39;00m\n\u001b[0;32m--> 501\u001b[0m     obs, info \u001b[39m=\u001b[39m \u001b[39mself\u001b[39;49m\u001b[39m.\u001b[39;49menv\u001b[39m.\u001b[39;49mreset(seed\u001b[39m=\u001b[39;49mseed, options\u001b[39m=\u001b[39;49moptions)\n\u001b[1;32m    502\u001b[0m     \u001b[39mreturn\u001b[39;00m \u001b[39mself\u001b[39m\u001b[39m.\u001b[39mobservation(obs), info\n",
      "File \u001b[0;32m~/opt/anaconda3/envs/doom-rlhf/lib/python3.9/site-packages/gymnasium/core.py:502\u001b[0m, in \u001b[0;36mObservationWrapper.reset\u001b[0;34m(self, seed, options)\u001b[0m\n\u001b[1;32m    500\u001b[0m \u001b[39m\u001b[39m\u001b[39m\"\"\"Modifies the :attr:`env` after calling :meth:`reset`, returning a modified observation using :meth:`self.observation`.\"\"\"\u001b[39;00m\n\u001b[1;32m    501\u001b[0m obs, info \u001b[39m=\u001b[39m \u001b[39mself\u001b[39m\u001b[39m.\u001b[39menv\u001b[39m.\u001b[39mreset(seed\u001b[39m=\u001b[39mseed, options\u001b[39m=\u001b[39moptions)\n\u001b[0;32m--> 502\u001b[0m \u001b[39mreturn\u001b[39;00m \u001b[39mself\u001b[39;49m\u001b[39m.\u001b[39;49mobservation(obs), info\n",
      "File \u001b[0;32m~/opt/anaconda3/envs/doom-rlhf/lib/python3.9/site-packages/gymnasium/wrappers/resize_observation.py:80\u001b[0m, in \u001b[0;36mResizeObservation.observation\u001b[0;34m(self, observation)\u001b[0m\n\u001b[1;32m     75\u001b[0m \u001b[39mexcept\u001b[39;00m \u001b[39mImportError\u001b[39;00m \u001b[39mas\u001b[39;00m e:\n\u001b[1;32m     76\u001b[0m     \u001b[39mraise\u001b[39;00m DependencyNotInstalled(\n\u001b[1;32m     77\u001b[0m         \u001b[39m\"\u001b[39m\u001b[39mopencv (cv2) is not installed, run `pip install gymnasium[other]`\u001b[39m\u001b[39m\"\u001b[39m\n\u001b[1;32m     78\u001b[0m     ) \u001b[39mfrom\u001b[39;00m \u001b[39me\u001b[39;00m\n\u001b[0;32m---> 80\u001b[0m observation \u001b[39m=\u001b[39m cv2\u001b[39m.\u001b[39;49mresize(\n\u001b[1;32m     81\u001b[0m     observation, \u001b[39mself\u001b[39;49m\u001b[39m.\u001b[39;49mshape[::\u001b[39m-\u001b[39;49m\u001b[39m1\u001b[39;49m], interpolation\u001b[39m=\u001b[39;49mcv2\u001b[39m.\u001b[39;49mINTER_AREA\n\u001b[1;32m     82\u001b[0m )\n\u001b[1;32m     83\u001b[0m \u001b[39mreturn\u001b[39;00m observation\u001b[39m.\u001b[39mreshape(\u001b[39mself\u001b[39m\u001b[39m.\u001b[39mobservation_space\u001b[39m.\u001b[39mshape)\n",
      "\u001b[0;31merror\u001b[0m: OpenCV(4.7.0) :-1: error: (-5:Bad argument) in function 'resize'\n> Overload resolution failed:\n>  - src is not a numpy array, neither a scalar\n>  - Expected Ptr<cv::UMat> for argument 'src'\n"
     ]
    }
   ],
   "source": [
    "import torch\n",
    "import numpy as np\n",
    "import time\n",
    "\n",
    "observation = torch.Tensor(envs.reset()).to(device)\n",
    "done = torch.zeros(num_envs).to(device)\n",
    "best_average_return = float('-inf')\n",
    "returns = []\n",
    "\n",
    "for update in range(1, num_updates + 1):\n",
    "    # Calculating learning rate annealing coefficient\n",
    "    learning_rate_anneal_coef = 1.0 - (update - 1.0) / num_updates\n",
    "\n",
    "    for step in range(0, num_steps):\n",
    "        global_step += num_envs\n",
    "\n",
    "        # Getting next action and it's value\n",
    "        with torch.no_grad():\n",
    "            action, log_prob, _, value = agent.forward(observation)\n",
    "            value = value.flatten()\n",
    "\n",
    "        observation_, reward, done_, info = envs.step(action.cpu().numpy())\n",
    "\n",
    "        # Saving experience in memory\n",
    "        memory.remember(\n",
    "            step=step, \n",
    "            observation= observation,\n",
    "            action=action,\n",
    "            value=value,\n",
    "            log_prob=log_prob,\n",
    "            reward=torch.tensor(np.array(reward, dtype=np.float32)).to(device).view(-1),\n",
    "            done=done\n",
    "        )\n",
    "\n",
    "        # Saving new observation and done status for next step\n",
    "        observation = torch.Tensor(observation_).to(device) \n",
    "        done =  torch.Tensor(done_).to(device)\n",
    "\n",
    "        for item in info:\n",
    "            if \"episode\" in item.keys():\n",
    "                print(f\"global_step={global_step}, episodic_return={item['episode']['r']}\")\n",
    "\n",
    "                # Recording returns\n",
    "                returns.append(item['episode']['r'])\n",
    "\n",
    "                # Writing step debug info to TensorBoard\n",
    "                tensorboard_writer.add_scalar(\"charts/episodic_return\", item[\"episode\"][\"r\"], global_step)\n",
    "                tensorboard_writer.add_scalar(\"charts/episodic_length\", item[\"episode\"][\"l\"], global_step)\n",
    "                break\n",
    "\n",
    "    # Checking if the current mean is higher than previous highest mean and saving the model\n",
    "    current_mean_episodic_return = np.mean(returns)\n",
    "    if current_mean_episodic_return > best_average_return:\n",
    "        # Saving the model\n",
    "        agent.save_models(f\"./models/training_run_{start_datetime.strftime('%Y_%m_%d_%H_%M_%S')}/checkpoint_step_{global_step}\")\n",
    "        \n",
    "        # Saving new best average return and clearing returns arrays\n",
    "        best_average_return = current_mean_episodic_return\n",
    "        returns.clear()\n",
    "\n",
    "    # Training the agent\n",
    "    training_stats = agent.train(\n",
    "        next_observation=observation,\n",
    "        next_done=done,\n",
    "        observations=memory.observations,\n",
    "        actions=memory.actions,\n",
    "        log_probs=memory.log_probs,\n",
    "        rewards=memory.rewards,\n",
    "        values=memory.values,\n",
    "        dones=memory.dones,\n",
    "        num_steps=num_steps,\n",
    "        batch_size=batch_size,\n",
    "        learning_rate_anneal_coef=learning_rate_anneal_coef,\n",
    "        mini_batch_size=mini_batch_size,\n",
    "        num_training_epochs=num_training_epochs\n",
    "    )\n",
    "\n",
    "    print(\"SPS:\", int(global_step / (time.time() - start_time)))\n",
    "\n",
    "    tensorboard_writer.add_scalar(\"charts/learning_rate\", training_stats.learning_rate, global_step)\n",
    "    tensorboard_writer.add_scalar(\"losses/value_loss\", training_stats.value_loss, global_step)\n",
    "    tensorboard_writer.add_scalar(\"losses/policy_loss\", training_stats.policy_loss, global_step)\n",
    "    tensorboard_writer.add_scalar(\"losses/entropy_loss\", training_stats.entropy_loss, global_step)\n",
    "    tensorboard_writer.add_scalar(\"charts/old_approx_kl\", training_stats.old_approx_kl, global_step)\n",
    "    tensorboard_writer.add_scalar(\"charts/approx_kl\", training_stats.approx_kl, global_step)\n",
    "    tensorboard_writer.add_scalar(\"charts/clip_fraction\", training_stats.clip_fraction, global_step)\n",
    "    tensorboard_writer.add_scalar(\"charts/explained_variance\", training_stats.explained_variance, global_step)\n",
    "    tensorboard_writer.add_scalar(\"charts/SPS\", int(global_step / (time.time() - start_time)), global_step)\n"
   ]
  },
  {
   "cell_type": "code",
   "execution_count": null,
   "metadata": {},
   "outputs": [],
   "source": [
    "# Saving models\n",
    "agent.save_models()"
   ]
  },
  {
   "cell_type": "code",
   "execution_count": null,
   "metadata": {},
   "outputs": [],
   "source": [
    "# Closing environments\n",
    "envs.close()\n",
    "# Closing tensorboard writer\n",
    "tensorboard_writer.close()"
   ]
  }
 ],
 "metadata": {
  "kernelspec": {
   "display_name": "final-project",
   "language": "python",
   "name": "python3"
  },
  "language_info": {
   "codemirror_mode": {
    "name": "ipython",
    "version": 3
   },
   "file_extension": ".py",
   "mimetype": "text/x-python",
   "name": "python",
   "nbconvert_exporter": "python",
   "pygments_lexer": "ipython3",
   "version": "3.9.7"
  },
  "orig_nbformat": 4
 },
 "nbformat": 4,
 "nbformat_minor": 2
}
