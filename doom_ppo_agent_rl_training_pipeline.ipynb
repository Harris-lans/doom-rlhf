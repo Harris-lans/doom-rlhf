{
 "cells": [
  {
   "cell_type": "markdown",
   "metadata": {},
   "source": [
    "# Regular RL Trainining Pipeline for PPO Agent to Play Levels from the Doom Game"
   ]
  },
  {
   "cell_type": "code",
   "execution_count": 1,
   "metadata": {},
   "outputs": [
    {
     "name": "stderr",
     "output_type": "stream",
     "text": [
      "c:\\Users\\haris\\anaconda3\\envs\\doom-rlhf\\lib\\site-packages\\gymnasium\\core.py:297: UserWarning: \u001b[33mWARN: env.num_envs to get variables from other wrappers is deprecated and will be removed in v1.0, to get this variable you can do `env.unwrapped.num_envs` for environment variables or `env.get_attr('num_envs')` that will search the reminding wrappers.\u001b[0m\n",
      "  logger.warn(\n",
      "c:\\Users\\haris\\anaconda3\\envs\\doom-rlhf\\lib\\site-packages\\gymnasium\\core.py:297: UserWarning: \u001b[33mWARN: env.is_vector_env to get variables from other wrappers is deprecated and will be removed in v1.0, to get this variable you can do `env.unwrapped.is_vector_env` for environment variables or `env.get_attr('is_vector_env')` that will search the reminding wrappers.\u001b[0m\n",
      "  logger.warn(\n"
     ]
    }
   ],
   "source": [
    "from utils.env import make_vizdoom_env\n",
    "import gymnasium as gym\n",
    "\n",
    "# Initializing environments\n",
    "num_envs = 1\n",
    "envs = gym.vector.SyncVectorEnv([ make_vizdoom_env('envs/vizdoom/scenarios/basic.cfg', render_mode='rgb_array', record_episodes=True) for i in range(num_envs)])\n"
   ]
  },
  {
   "cell_type": "code",
   "execution_count": 2,
   "metadata": {},
   "outputs": [
    {
     "data": {
      "text/plain": [
       "Discrete(4)"
      ]
     },
     "execution_count": 2,
     "metadata": {},
     "output_type": "execute_result"
    }
   ],
   "source": [
    "envs.single_action_space"
   ]
  },
  {
   "cell_type": "code",
   "execution_count": 2,
   "metadata": {},
   "outputs": [],
   "source": [
    "from torch.utils.tensorboard import SummaryWriter\n",
    "from agents.doom_ppo_agent import DoomPpoAgent\n",
    "from utils.memory import Memory\n",
    "from utils.time import current_timestamp_ms\n",
    "from datetime import datetime\n",
    "import torch\n",
    "\n",
    "# Prefering GPU\n",
    "if torch.cuda.is_available():\n",
    "    device = torch.device(\"cuda\")\n",
    "elif torch.has_mps:\n",
    "    device = torch.device(\"mps\")\n",
    "else:\n",
    "    device = torch.device(\"cpu\")\n",
    "\n",
    "# Setting up agent\n",
    "agent = DoomPpoAgent(envs.single_observation_space, \n",
    "                     envs.single_action_space,\n",
    "                     learning_rate=0.0001)\n",
    "agent.to(device)\n",
    "\n",
    "# Setting up agent training config\n",
    "global_step = 0\n",
    "start_datetime = datetime.now()\n",
    "start_time = start_datetime.timestamp()\n",
    "num_steps = 256\n",
    "num_mini_batches = 32\n",
    "num_training_epochs=10\n",
    "batch_size = int(num_envs * num_steps)\n",
    "mini_batch_size = batch_size // num_mini_batches\n",
    "total_timesteps = 300000\n",
    "num_updates = total_timesteps // batch_size\n",
    "memory = Memory(device, num_steps, num_envs, envs.single_observation_space.shape, envs.single_action_space.shape)\n",
    "\n",
    "# Setting up debugging for Tensorboard\n",
    "tensorboard_writer = SummaryWriter(f\"logs/ppo_agent/doom_basic_level/training_{current_timestamp_ms()}\")"
   ]
  },
  {
   "cell_type": "code",
   "execution_count": 3,
   "metadata": {},
   "outputs": [
    {
     "name": "stderr",
     "output_type": "stream",
     "text": [
      "c:\\Users\\haris\\anaconda3\\envs\\doom-rlhf\\lib\\site-packages\\numpy\\core\\fromnumeric.py:3432: RuntimeWarning: Mean of empty slice.\n",
      "  return _methods._mean(a, axis=axis, dtype=dtype,\n",
      "c:\\Users\\haris\\anaconda3\\envs\\doom-rlhf\\lib\\site-packages\\numpy\\core\\_methods.py:190: RuntimeWarning: invalid value encountered in double_scalars\n",
      "  ret = ret.dtype.type(ret / rcount)\n"
     ]
    },
    {
     "name": "stdout",
     "output_type": "stream",
     "text": [
      "SPS: 24\n",
      "Moviepy - Building video e:\\Study\\University of London\\Semester 6\\Final Project\\doom-rlhf\\videos\\1689682808327\\rl-video-episode-0.mp4.\n",
      "Moviepy - Writing video e:\\Study\\University of London\\Semester 6\\Final Project\\doom-rlhf\\videos\\1689682808327\\rl-video-episode-0.mp4\n",
      "\n"
     ]
    },
    {
     "name": "stderr",
     "output_type": "stream",
     "text": [
      "                                                                \r"
     ]
    },
    {
     "name": "stdout",
     "output_type": "stream",
     "text": [
      "Moviepy - Done !\n",
      "Moviepy - video ready e:\\Study\\University of London\\Semester 6\\Final Project\\doom-rlhf\\videos\\1689682808327\\rl-video-episode-0.mp4\n",
      "global_step=300, episodic_return=[-400.]\n",
      "Saving models...\n",
      "Directory './models/training_run_2023_07_18_17_50_12/checkpoint_step_512' created!\n",
      "Successfully saved models!\n",
      "SPS: 33\n",
      "Moviepy - Building video e:\\Study\\University of London\\Semester 6\\Final Project\\doom-rlhf\\videos\\1689682808327\\rl-video-episode-1.mp4.\n",
      "Moviepy - Writing video e:\\Study\\University of London\\Semester 6\\Final Project\\doom-rlhf\\videos\\1689682808327\\rl-video-episode-1.mp4\n",
      "\n"
     ]
    },
    {
     "name": "stderr",
     "output_type": "stream",
     "text": [
      "                                                                \r"
     ]
    },
    {
     "name": "stdout",
     "output_type": "stream",
     "text": [
      "Moviepy - Done !\n",
      "Moviepy - video ready e:\\Study\\University of London\\Semester 6\\Final Project\\doom-rlhf\\videos\\1689682808327\\rl-video-episode-1.mp4\n",
      "global_step=600, episodic_return=[-390.]\n",
      "global_step=606, episodic_return=[95.]\n",
      "Saving models...\n",
      "Directory './models/training_run_2023_07_18_17_50_12/checkpoint_step_768' created!\n",
      "Successfully saved models!\n",
      "SPS: 38\n",
      "global_step=906, episodic_return=[-400.]\n",
      "SPS: 42\n",
      "global_step=1206, episodic_return=[-395.]\n",
      "SPS: 45\n",
      "global_step=1506, episodic_return=[-395.]\n"
     ]
    },
    {
     "ename": "KeyboardInterrupt",
     "evalue": "",
     "output_type": "error",
     "traceback": [
      "\u001b[1;31m---------------------------------------------------------------------------\u001b[0m",
      "\u001b[1;31mKeyboardInterrupt\u001b[0m                         Traceback (most recent call last)",
      "Cell \u001b[1;32mIn[3], line 65\u001b[0m\n\u001b[0;32m     62\u001b[0m     returns\u001b[39m.\u001b[39mclear()\n\u001b[0;32m     64\u001b[0m \u001b[39m# Training the agent\u001b[39;00m\n\u001b[1;32m---> 65\u001b[0m training_stats \u001b[39m=\u001b[39m agent\u001b[39m.\u001b[39;49mtrain(\n\u001b[0;32m     66\u001b[0m     next_observation\u001b[39m=\u001b[39;49mobservations,\n\u001b[0;32m     67\u001b[0m     next_done\u001b[39m=\u001b[39;49mdone,\n\u001b[0;32m     68\u001b[0m     observations\u001b[39m=\u001b[39;49mmemory\u001b[39m.\u001b[39;49mobservations,\n\u001b[0;32m     69\u001b[0m     actions\u001b[39m=\u001b[39;49mmemory\u001b[39m.\u001b[39;49mactions,\n\u001b[0;32m     70\u001b[0m     log_probs\u001b[39m=\u001b[39;49mmemory\u001b[39m.\u001b[39;49mlog_probs,\n\u001b[0;32m     71\u001b[0m     rewards\u001b[39m=\u001b[39;49mmemory\u001b[39m.\u001b[39;49mrewards,\n\u001b[0;32m     72\u001b[0m     values\u001b[39m=\u001b[39;49mmemory\u001b[39m.\u001b[39;49mvalues,\n\u001b[0;32m     73\u001b[0m     dones\u001b[39m=\u001b[39;49mmemory\u001b[39m.\u001b[39;49mdones,\n\u001b[0;32m     74\u001b[0m     num_steps\u001b[39m=\u001b[39;49mnum_steps,\n\u001b[0;32m     75\u001b[0m     batch_size\u001b[39m=\u001b[39;49mbatch_size,\n\u001b[0;32m     76\u001b[0m     learning_rate_anneal_coef\u001b[39m=\u001b[39;49mlearning_rate_anneal_coef,\n\u001b[0;32m     77\u001b[0m     mini_batch_size\u001b[39m=\u001b[39;49mmini_batch_size,\n\u001b[0;32m     78\u001b[0m     num_training_epochs\u001b[39m=\u001b[39;49mnum_training_epochs\n\u001b[0;32m     79\u001b[0m )\n\u001b[0;32m     81\u001b[0m \u001b[39mprint\u001b[39m(\u001b[39m\"\u001b[39m\u001b[39mSPS:\u001b[39m\u001b[39m\"\u001b[39m, \u001b[39mint\u001b[39m(global_step \u001b[39m/\u001b[39m (time\u001b[39m.\u001b[39mtime() \u001b[39m-\u001b[39m start_time)))\n\u001b[0;32m     83\u001b[0m tensorboard_writer\u001b[39m.\u001b[39madd_scalar(\u001b[39m\"\u001b[39m\u001b[39mcharts/learning_rate\u001b[39m\u001b[39m\"\u001b[39m, training_stats\u001b[39m.\u001b[39mlearning_rate, global_step)\n",
      "File \u001b[1;32me:\\Study\\University of London\\Semester 6\\Final Project\\doom-rlhf\\agents\\base_ppo_agent.py:260\u001b[0m, in \u001b[0;36mBasePpoAgent.train\u001b[1;34m(self, next_observation, next_done, observations, actions, log_probs, rewards, values, dones, num_steps, batch_size, gamma, enable_gae, gae_lambda, clip_vloss, epsilon, max_grad_norm, value_coef, entropy_coef, learning_rate_anneal_coef, target_kl, normalize_advantages, mini_batch_size, num_training_epochs)\u001b[0m\n\u001b[0;32m    257\u001b[0m end \u001b[39m=\u001b[39m start \u001b[39m+\u001b[39m mini_batch_size\n\u001b[0;32m    258\u001b[0m mb_inds \u001b[39m=\u001b[39m b_inds[start:end]\n\u001b[1;32m--> 260\u001b[0m _, new_log_prob, entropy, new_value \u001b[39m=\u001b[39m \u001b[39mself\u001b[39;49m\u001b[39m.\u001b[39;49mforward(b_observations[mb_inds], b_actions\u001b[39m.\u001b[39;49mlong()[mb_inds])\n\u001b[0;32m    261\u001b[0m log_ratio \u001b[39m=\u001b[39m new_log_prob \u001b[39m-\u001b[39m b_log_probs[mb_inds]\n\u001b[0;32m    262\u001b[0m ratio \u001b[39m=\u001b[39m log_ratio\u001b[39m.\u001b[39mexp()\n",
      "File \u001b[1;32me:\\Study\\University of London\\Semester 6\\Final Project\\doom-rlhf\\agents\\base_ppo_agent.py:143\u001b[0m, in \u001b[0;36mBasePpoAgent.forward\u001b[1;34m(self, observation, action)\u001b[0m\n\u001b[0;32m    129\u001b[0m \u001b[39mdef\u001b[39;00m \u001b[39mforward\u001b[39m(\u001b[39mself\u001b[39m, observation, action\u001b[39m=\u001b[39m\u001b[39mNone\u001b[39;00m):\n\u001b[0;32m    130\u001b[0m \u001b[39m    \u001b[39m\u001b[39m\"\"\"\u001b[39;00m\n\u001b[0;32m    131\u001b[0m \u001b[39m    Compute the optimal action and corresponding value for a given observation.\u001b[39;00m\n\u001b[0;32m    132\u001b[0m \n\u001b[1;32m   (...)\u001b[0m\n\u001b[0;32m    141\u001b[0m \u001b[39m        torch.Tensor: The value estimation.\u001b[39;00m\n\u001b[0;32m    142\u001b[0m \u001b[39m    \"\"\"\u001b[39;00m\n\u001b[1;32m--> 143\u001b[0m     hidden \u001b[39m=\u001b[39m \u001b[39mself\u001b[39;49m\u001b[39m.\u001b[39;49mnetwork(observation \u001b[39m/\u001b[39;49m \u001b[39m255.0\u001b[39;49m)\n\u001b[0;32m    144\u001b[0m     logits \u001b[39m=\u001b[39m \u001b[39mself\u001b[39m\u001b[39m.\u001b[39mactor(hidden)\n\u001b[0;32m    145\u001b[0m     value \u001b[39m=\u001b[39m \u001b[39mself\u001b[39m\u001b[39m.\u001b[39mcritic(hidden)\n",
      "File \u001b[1;32mc:\\Users\\haris\\anaconda3\\envs\\doom-rlhf\\lib\\site-packages\\torch\\nn\\modules\\module.py:1501\u001b[0m, in \u001b[0;36mModule._call_impl\u001b[1;34m(self, *args, **kwargs)\u001b[0m\n\u001b[0;32m   1496\u001b[0m \u001b[39m# If we don't have any hooks, we want to skip the rest of the logic in\u001b[39;00m\n\u001b[0;32m   1497\u001b[0m \u001b[39m# this function, and just call forward.\u001b[39;00m\n\u001b[0;32m   1498\u001b[0m \u001b[39mif\u001b[39;00m \u001b[39mnot\u001b[39;00m (\u001b[39mself\u001b[39m\u001b[39m.\u001b[39m_backward_hooks \u001b[39mor\u001b[39;00m \u001b[39mself\u001b[39m\u001b[39m.\u001b[39m_backward_pre_hooks \u001b[39mor\u001b[39;00m \u001b[39mself\u001b[39m\u001b[39m.\u001b[39m_forward_hooks \u001b[39mor\u001b[39;00m \u001b[39mself\u001b[39m\u001b[39m.\u001b[39m_forward_pre_hooks\n\u001b[0;32m   1499\u001b[0m         \u001b[39mor\u001b[39;00m _global_backward_pre_hooks \u001b[39mor\u001b[39;00m _global_backward_hooks\n\u001b[0;32m   1500\u001b[0m         \u001b[39mor\u001b[39;00m _global_forward_hooks \u001b[39mor\u001b[39;00m _global_forward_pre_hooks):\n\u001b[1;32m-> 1501\u001b[0m     \u001b[39mreturn\u001b[39;00m forward_call(\u001b[39m*\u001b[39margs, \u001b[39m*\u001b[39m\u001b[39m*\u001b[39mkwargs)\n\u001b[0;32m   1502\u001b[0m \u001b[39m# Do not call functions when jit is used\u001b[39;00m\n\u001b[0;32m   1503\u001b[0m full_backward_hooks, non_full_backward_hooks \u001b[39m=\u001b[39m [], []\n",
      "File \u001b[1;32mc:\\Users\\haris\\anaconda3\\envs\\doom-rlhf\\lib\\site-packages\\torch\\nn\\modules\\container.py:217\u001b[0m, in \u001b[0;36mSequential.forward\u001b[1;34m(self, input)\u001b[0m\n\u001b[0;32m    215\u001b[0m \u001b[39mdef\u001b[39;00m \u001b[39mforward\u001b[39m(\u001b[39mself\u001b[39m, \u001b[39minput\u001b[39m):\n\u001b[0;32m    216\u001b[0m     \u001b[39mfor\u001b[39;00m module \u001b[39min\u001b[39;00m \u001b[39mself\u001b[39m:\n\u001b[1;32m--> 217\u001b[0m         \u001b[39minput\u001b[39m \u001b[39m=\u001b[39m module(\u001b[39minput\u001b[39;49m)\n\u001b[0;32m    218\u001b[0m     \u001b[39mreturn\u001b[39;00m \u001b[39minput\u001b[39m\n",
      "File \u001b[1;32mc:\\Users\\haris\\anaconda3\\envs\\doom-rlhf\\lib\\site-packages\\torch\\nn\\modules\\module.py:1501\u001b[0m, in \u001b[0;36mModule._call_impl\u001b[1;34m(self, *args, **kwargs)\u001b[0m\n\u001b[0;32m   1496\u001b[0m \u001b[39m# If we don't have any hooks, we want to skip the rest of the logic in\u001b[39;00m\n\u001b[0;32m   1497\u001b[0m \u001b[39m# this function, and just call forward.\u001b[39;00m\n\u001b[0;32m   1498\u001b[0m \u001b[39mif\u001b[39;00m \u001b[39mnot\u001b[39;00m (\u001b[39mself\u001b[39m\u001b[39m.\u001b[39m_backward_hooks \u001b[39mor\u001b[39;00m \u001b[39mself\u001b[39m\u001b[39m.\u001b[39m_backward_pre_hooks \u001b[39mor\u001b[39;00m \u001b[39mself\u001b[39m\u001b[39m.\u001b[39m_forward_hooks \u001b[39mor\u001b[39;00m \u001b[39mself\u001b[39m\u001b[39m.\u001b[39m_forward_pre_hooks\n\u001b[0;32m   1499\u001b[0m         \u001b[39mor\u001b[39;00m _global_backward_pre_hooks \u001b[39mor\u001b[39;00m _global_backward_hooks\n\u001b[0;32m   1500\u001b[0m         \u001b[39mor\u001b[39;00m _global_forward_hooks \u001b[39mor\u001b[39;00m _global_forward_pre_hooks):\n\u001b[1;32m-> 1501\u001b[0m     \u001b[39mreturn\u001b[39;00m forward_call(\u001b[39m*\u001b[39margs, \u001b[39m*\u001b[39m\u001b[39m*\u001b[39mkwargs)\n\u001b[0;32m   1502\u001b[0m \u001b[39m# Do not call functions when jit is used\u001b[39;00m\n\u001b[0;32m   1503\u001b[0m full_backward_hooks, non_full_backward_hooks \u001b[39m=\u001b[39m [], []\n",
      "File \u001b[1;32mc:\\Users\\haris\\anaconda3\\envs\\doom-rlhf\\lib\\site-packages\\torch\\nn\\modules\\linear.py:114\u001b[0m, in \u001b[0;36mLinear.forward\u001b[1;34m(self, input)\u001b[0m\n\u001b[0;32m    113\u001b[0m \u001b[39mdef\u001b[39;00m \u001b[39mforward\u001b[39m(\u001b[39mself\u001b[39m, \u001b[39minput\u001b[39m: Tensor) \u001b[39m-\u001b[39m\u001b[39m>\u001b[39m Tensor:\n\u001b[1;32m--> 114\u001b[0m     \u001b[39mreturn\u001b[39;00m F\u001b[39m.\u001b[39;49mlinear(\u001b[39minput\u001b[39;49m, \u001b[39mself\u001b[39;49m\u001b[39m.\u001b[39;49mweight, \u001b[39mself\u001b[39;49m\u001b[39m.\u001b[39;49mbias)\n",
      "\u001b[1;31mKeyboardInterrupt\u001b[0m: "
     ]
    }
   ],
   "source": [
    "import torch\n",
    "import numpy as np\n",
    "import time\n",
    "\n",
    "observations, info = envs.reset()\n",
    "observations = torch.Tensor(observations).to(device)\n",
    "done = torch.zeros(num_envs).to(device)\n",
    "best_average_return = float('-inf')\n",
    "returns = []\n",
    "\n",
    "for update in range(1, num_updates + 1):\n",
    "    # Calculating learning rate annealing coefficient\n",
    "    learning_rate_anneal_coef = 1.0 - (update - 1.0) / num_updates\n",
    "\n",
    "    for step in range(0, num_steps):\n",
    "        global_step += num_envs\n",
    "\n",
    "        # Getting next action and it's value\n",
    "        with torch.no_grad():\n",
    "            action, log_prob, _, value = agent.forward(observations)\n",
    "            value = value.flatten()\n",
    "\n",
    "        observations_, rewards, dones_, truncation_statuses, info = envs.step(action.cpu().numpy())\n",
    "        # print(info)\n",
    "\n",
    "        # Saving experience in memory\n",
    "        memory.remember(\n",
    "            step=step, \n",
    "            observation= observations,\n",
    "            action=action,\n",
    "            value=value,\n",
    "            log_prob=log_prob,\n",
    "            reward=torch.tensor(np.array(rewards, dtype=np.float32)).to(device).view(-1),\n",
    "            done=done\n",
    "        )\n",
    "\n",
    "        # Saving new observation and done status for next step\n",
    "        observations = torch.Tensor(observations_).to(device) \n",
    "        done =  torch.Tensor(dones_).to(device)\n",
    "        \n",
    "        if 'final_info' in info:\n",
    "            for env_info in info['final_info']:\n",
    "                if env_info is not None and \"episode\" in env_info.keys():\n",
    "                    print(f\"global_step={global_step}, episodic_return={env_info['episode']['r']}\")\n",
    "\n",
    "                    # Recording returns\n",
    "                    returns.append(env_info['episode']['r'])\n",
    "\n",
    "                    # Writing step debug info to TensorBoard\n",
    "                    tensorboard_writer.add_scalar(\"charts/episodic_return\", env_info[\"episode\"][\"r\"], global_step)\n",
    "                    tensorboard_writer.add_scalar(\"charts/episodic_length\", env_info[\"episode\"][\"l\"], global_step)\n",
    "                    break\n",
    "\n",
    "    # Checking if the current mean is higher than previous highest mean and saving the model\n",
    "    current_mean_episodic_return = np.mean(returns)\n",
    "    if current_mean_episodic_return > best_average_return:\n",
    "        # Saving the model\n",
    "        agent.save_models(f\"./models/doom_ppo_agent/training_run_{start_datetime.strftime('%Y_%m_%d_%H_%M_%S')}/checkpoint_step_{global_step}\")\n",
    "        \n",
    "        # Saving new best average return and clearing returns arrays\n",
    "        best_average_return = current_mean_episodic_return\n",
    "        returns.clear()\n",
    "\n",
    "    # Training the agent\n",
    "    training_stats = agent.train(\n",
    "        next_observation=observations,\n",
    "        next_done=done,\n",
    "        observations=memory.observations,\n",
    "        actions=memory.actions,\n",
    "        log_probs=memory.log_probs,\n",
    "        rewards=memory.rewards,\n",
    "        values=memory.values,\n",
    "        dones=memory.dones,\n",
    "        num_steps=num_steps,\n",
    "        batch_size=batch_size,\n",
    "        learning_rate_anneal_coef=learning_rate_anneal_coef,\n",
    "        mini_batch_size=mini_batch_size,\n",
    "        num_training_epochs=num_training_epochs\n",
    "    )\n",
    "\n",
    "    print(\"SPS:\", int(global_step / (time.time() - start_time)))\n",
    "\n",
    "    tensorboard_writer.add_scalar(\"charts/learning_rate\", training_stats.learning_rate, global_step)\n",
    "    tensorboard_writer.add_scalar(\"losses/value_loss\", training_stats.value_loss, global_step)\n",
    "    tensorboard_writer.add_scalar(\"losses/policy_loss\", training_stats.policy_loss, global_step)\n",
    "    tensorboard_writer.add_scalar(\"losses/entropy_loss\", training_stats.entropy_loss, global_step)\n",
    "    tensorboard_writer.add_scalar(\"charts/old_approx_kl\", training_stats.old_approx_kl, global_step)\n",
    "    tensorboard_writer.add_scalar(\"charts/approx_kl\", training_stats.approx_kl, global_step)\n",
    "    tensorboard_writer.add_scalar(\"charts/clip_fraction\", training_stats.clip_fraction, global_step)\n",
    "    tensorboard_writer.add_scalar(\"charts/explained_variance\", training_stats.explained_variance, global_step)\n",
    "    tensorboard_writer.add_scalar(\"charts/SPS\", int(global_step / (time.time() - start_time)), global_step)\n"
   ]
  },
  {
   "cell_type": "code",
   "execution_count": null,
   "metadata": {},
   "outputs": [],
   "source": [
    "# Saving models\n",
    "agent.save_models()"
   ]
  },
  {
   "cell_type": "code",
   "execution_count": null,
   "metadata": {},
   "outputs": [],
   "source": [
    "# Closing environments\n",
    "envs.close()\n",
    "# Closing tensorboard writer\n",
    "tensorboard_writer.close()"
   ]
  }
 ],
 "metadata": {
  "kernelspec": {
   "display_name": "final-project",
   "language": "python",
   "name": "python3"
  },
  "language_info": {
   "codemirror_mode": {
    "name": "ipython",
    "version": 3
   },
   "file_extension": ".py",
   "mimetype": "text/x-python",
   "name": "python",
   "nbconvert_exporter": "python",
   "pygments_lexer": "ipython3",
   "version": "3.9.7"
  },
  "orig_nbformat": 4
 },
 "nbformat": 4,
 "nbformat_minor": 2
}
