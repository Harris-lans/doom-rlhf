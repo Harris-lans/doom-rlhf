{
 "cells": [
  {
   "cell_type": "markdown",
   "metadata": {},
   "source": [
    "# Play Doom Level using Trained PPO Agent  "
   ]
  },
  {
   "cell_type": "code",
   "execution_count": 1,
   "metadata": {},
   "outputs": [
    {
     "name": "stderr",
     "output_type": "stream",
     "text": [
      "/Users/harish/Documents/Study/University of London/Semester 6/Final Project/doom-rlhf/envs/vizdoom_env.py:82: UserWarning: Detected screen format CRCGCB. Only RGB24 and GRAY8 are supported in the Gymnasium wrapper. Forcing RGB24.\n",
      "  warnings.warn(\n",
      "/Users/harish/opt/anaconda3/envs/doom-rlhf/lib/python3.9/site-packages/gymnasium/core.py:297: UserWarning: \u001b[33mWARN: env.num_envs to get variables from other wrappers is deprecated and will be removed in v1.0, to get this variable you can do `env.unwrapped.num_envs` for environment variables or `env.get_attr('num_envs')` that will search the reminding wrappers.\u001b[0m\n",
      "  logger.warn(\n"
     ]
    },
    {
     "name": "stdout",
     "output_type": "stream",
     "text": [
      "Loading models...\n",
      "Successfully loaded models!\n",
      "Updating networks with weights from loaded models...\n"
     ]
    },
    {
     "ename": "RuntimeError",
     "evalue": "Error(s) in loading state_dict for Linear:\n\tsize mismatch for weight: copying a param with shape torch.Size([3, 512]) from checkpoint, the shape in current model is torch.Size([4, 512]).\n\tsize mismatch for bias: copying a param with shape torch.Size([3]) from checkpoint, the shape in current model is torch.Size([4]).",
     "output_type": "error",
     "traceback": [
      "\u001b[0;31m---------------------------------------------------------------------------\u001b[0m",
      "\u001b[0;31mRuntimeError\u001b[0m                              Traceback (most recent call last)",
      "Cell \u001b[0;32mIn[1], line 23\u001b[0m\n\u001b[1;32m     20\u001b[0m agent \u001b[39m=\u001b[39m DoomPpoAgent(envs\u001b[39m.\u001b[39msingle_observation_space, \n\u001b[1;32m     21\u001b[0m                      envs\u001b[39m.\u001b[39msingle_action_space)\n\u001b[1;32m     22\u001b[0m agent\u001b[39m.\u001b[39mto(device)\n\u001b[0;32m---> 23\u001b[0m agent\u001b[39m.\u001b[39;49mload_models(path\u001b[39m=\u001b[39;49m\u001b[39m'\u001b[39;49m\u001b[39m./models/doom_ppo_agent/training_run_2023_07_07_02_24_27/checkpoint_step_292864\u001b[39;49m\u001b[39m'\u001b[39;49m, device\u001b[39m=\u001b[39;49mdevice)\n\u001b[1;32m     24\u001b[0m agent\u001b[39m.\u001b[39mload_models(path\u001b[39m=\u001b[39m\u001b[39m'\u001b[39m\u001b[39m./models/doom_ppo_agent/training_run_2023_07_09_16_55_38/checkpoint_step_38912\u001b[39m\u001b[39m'\u001b[39m, device\u001b[39m=\u001b[39mdevice)\n\u001b[1;32m     26\u001b[0m \u001b[39m# Playing config\u001b[39;00m\n",
      "File \u001b[0;32m~/Documents/Study/University of London/Semester 6/Final Project/doom-rlhf/agents/base_ppo_agent.py:125\u001b[0m, in \u001b[0;36mBasePpoAgent.load_models\u001b[0;34m(self, path, device)\u001b[0m\n\u001b[1;32m    123\u001b[0m \u001b[39mprint\u001b[39m(\u001b[39m\"\u001b[39m\u001b[39mUpdating networks with weights from loaded models...\u001b[39m\u001b[39m\"\u001b[39m)\n\u001b[1;32m    124\u001b[0m \u001b[39mself\u001b[39m\u001b[39m.\u001b[39mnetwork\u001b[39m.\u001b[39mload_state_dict(network_state_dict)\n\u001b[0;32m--> 125\u001b[0m \u001b[39mself\u001b[39;49m\u001b[39m.\u001b[39;49mactor\u001b[39m.\u001b[39;49mload_state_dict(actor_state_dict)\n\u001b[1;32m    126\u001b[0m \u001b[39mself\u001b[39m\u001b[39m.\u001b[39mcritic\u001b[39m.\u001b[39mload_state_dict(critic_state_dict)\n\u001b[1;32m    127\u001b[0m \u001b[39mprint\u001b[39m(\u001b[39m\"\u001b[39m\u001b[39mSuccessfully updated networks!\u001b[39m\u001b[39m\"\u001b[39m)\n",
      "File \u001b[0;32m~/opt/anaconda3/envs/doom-rlhf/lib/python3.9/site-packages/torch/nn/modules/module.py:2041\u001b[0m, in \u001b[0;36mModule.load_state_dict\u001b[0;34m(self, state_dict, strict)\u001b[0m\n\u001b[1;32m   2036\u001b[0m         error_msgs\u001b[39m.\u001b[39minsert(\n\u001b[1;32m   2037\u001b[0m             \u001b[39m0\u001b[39m, \u001b[39m'\u001b[39m\u001b[39mMissing key(s) in state_dict: \u001b[39m\u001b[39m{}\u001b[39;00m\u001b[39m. \u001b[39m\u001b[39m'\u001b[39m\u001b[39m.\u001b[39mformat(\n\u001b[1;32m   2038\u001b[0m                 \u001b[39m'\u001b[39m\u001b[39m, \u001b[39m\u001b[39m'\u001b[39m\u001b[39m.\u001b[39mjoin(\u001b[39m'\u001b[39m\u001b[39m\"\u001b[39m\u001b[39m{}\u001b[39;00m\u001b[39m\"\u001b[39m\u001b[39m'\u001b[39m\u001b[39m.\u001b[39mformat(k) \u001b[39mfor\u001b[39;00m k \u001b[39min\u001b[39;00m missing_keys)))\n\u001b[1;32m   2040\u001b[0m \u001b[39mif\u001b[39;00m \u001b[39mlen\u001b[39m(error_msgs) \u001b[39m>\u001b[39m \u001b[39m0\u001b[39m:\n\u001b[0;32m-> 2041\u001b[0m     \u001b[39mraise\u001b[39;00m \u001b[39mRuntimeError\u001b[39;00m(\u001b[39m'\u001b[39m\u001b[39mError(s) in loading state_dict for \u001b[39m\u001b[39m{}\u001b[39;00m\u001b[39m:\u001b[39m\u001b[39m\\n\u001b[39;00m\u001b[39m\\t\u001b[39;00m\u001b[39m{}\u001b[39;00m\u001b[39m'\u001b[39m\u001b[39m.\u001b[39mformat(\n\u001b[1;32m   2042\u001b[0m                        \u001b[39mself\u001b[39m\u001b[39m.\u001b[39m\u001b[39m__class__\u001b[39m\u001b[39m.\u001b[39m\u001b[39m__name__\u001b[39m, \u001b[39m\"\u001b[39m\u001b[39m\\n\u001b[39;00m\u001b[39m\\t\u001b[39;00m\u001b[39m\"\u001b[39m\u001b[39m.\u001b[39mjoin(error_msgs)))\n\u001b[1;32m   2043\u001b[0m \u001b[39mreturn\u001b[39;00m _IncompatibleKeys(missing_keys, unexpected_keys)\n",
      "\u001b[0;31mRuntimeError\u001b[0m: Error(s) in loading state_dict for Linear:\n\tsize mismatch for weight: copying a param with shape torch.Size([3, 512]) from checkpoint, the shape in current model is torch.Size([4, 512]).\n\tsize mismatch for bias: copying a param with shape torch.Size([3]) from checkpoint, the shape in current model is torch.Size([4])."
     ]
    }
   ],
   "source": [
    "from utils.env import make_vizdoom_env\n",
    "from agents.doom_ppo_agent import DoomPpoAgent\n",
    "import gymnasium as gym\n",
    "import torch\n",
    "\n",
    "# Creating Environment\n",
    "num_envs = 1\n",
    "envs = gym.vector.SyncVectorEnv([ make_vizdoom_env(level='vizdoom/scenarios/basic.cfg') for i in range(num_envs)])\n",
    "\n",
    "# Prefering GPU\n",
    "if torch.cuda.is_available():\n",
    "    device = torch.device(\"cuda\")\n",
    "elif torch.has_mps:\n",
    "    device = torch.device(\"mps\")\n",
    "else:\n",
    "    device = torch.device(\"cpu\")\n",
    "\n",
    "# Setting up agent\n",
    "agent = DoomPpoAgent(envs.single_observation_space, \n",
    "                     envs.single_action_space)\n",
    "agent.to(device)\n",
    "agent.load_models(path='./models/doom_ppo_agent/training_run_2023_07_07_02_24_27/checkpoint_step_292864', device=device)\n",
    "agent.load_models(path='./models/doom_ppo_agent/training_run_2023_07_09_16_55_38/checkpoint_step_38912', device=device)\n",
    "\n",
    "# Playing config\n",
    "number_of_episodes = 50"
   ]
  },
  {
   "cell_type": "code",
   "execution_count": null,
   "metadata": {},
   "outputs": [],
   "source": [
    "import time\n",
    "import torch\n",
    "import numpy as np\n",
    "\n",
    "for episode in range(number_of_episodes):\n",
    "    observation = envs.reset()\n",
    "    done = np.zeros(num_envs, dtype=np.int32)\n",
    "    total_reward = 0\n",
    "\n",
    "    while not done.all():\n",
    "        # Getting next action and it's value\n",
    "        with torch.no_grad():\n",
    "            action, log_prob, _, value = agent.forward(torch.Tensor(observation).to(device))\n",
    "        observation, reward, done, info = envs.step(action.cpu().numpy())\n",
    "        total_reward += reward\n",
    "\n",
    "        time.sleep(1/30)\n",
    "\n",
    "    print(f\"Total reward for episode {episode} is {total_reward}\")\n",
    "    time.sleep(0.25)"
   ]
  },
  {
   "cell_type": "code",
   "execution_count": null,
   "metadata": {},
   "outputs": [],
   "source": [
    "envs.close()"
   ]
  }
 ],
 "metadata": {
  "kernelspec": {
   "display_name": "doom-rlhf",
   "language": "python",
   "name": "python3"
  },
  "language_info": {
   "codemirror_mode": {
    "name": "ipython",
    "version": 3
   },
   "file_extension": ".py",
   "mimetype": "text/x-python",
   "name": "python",
   "nbconvert_exporter": "python",
   "pygments_lexer": "ipython3",
   "version": "3.9.7"
  },
  "orig_nbformat": 4
 },
 "nbformat": 4,
 "nbformat_minor": 2
}
