{
 "cells": [
  {
   "cell_type": "markdown",
   "metadata": {},
   "source": [
    "# Play Doom Level using Trained PPO Agent  "
   ]
  },
  {
   "cell_type": "code",
   "execution_count": 1,
   "metadata": {},
   "outputs": [
    {
     "name": "stdout",
     "output_type": "stream",
     "text": [
      "Loading models...\n",
      "Successfully loaded models!\n",
      "Updating networks with weights from loaded models...\n",
      "Successfully updated networks!\n"
     ]
    }
   ],
   "source": [
    "from utils.env import make_doom_env\n",
    "from agents.doom_ppo_agent import DoomPpoAgent\n",
    "import gym\n",
    "\n",
    "# Creating Environment\n",
    "num_envs = 1\n",
    "envs = gym.vector.SyncVectorEnv([ make_doom_env(level_config_path='vizdoom/scenarios/basic.cfg', render=True) for i in range(num_envs)])\n",
    "# Setting up agent\n",
    "agent = DoomPpoAgent(envs.single_observation_space, \n",
    "                     envs.single_action_space, \n",
    "                     models_path='./models/training_run_2023_07_07_02_24_27/checkpoint_step_292864')\n",
    "\n",
    "# Playing config\n",
    "number_of_episodes = 100"
   ]
  },
  {
   "cell_type": "code",
   "execution_count": 3,
   "metadata": {},
   "outputs": [
    {
     "name": "stdout",
     "output_type": "stream",
     "text": [
      "Total reward for episode 0 is [67.]\n",
      "Total reward for episode 1 is [67.]\n",
      "Total reward for episode 2 is [95.]\n",
      "Total reward for episode 3 is [87.]\n",
      "Total reward for episode 4 is [91.]\n",
      "Total reward for episode 5 is [95.]\n",
      "Total reward for episode 6 is [95.]\n",
      "Total reward for episode 7 is [95.]\n",
      "Total reward for episode 8 is [71.]\n",
      "Total reward for episode 9 is [83.]\n",
      "Total reward for episode 10 is [75.]\n",
      "Total reward for episode 11 is [71.]\n",
      "Total reward for episode 12 is [71.]\n",
      "Total reward for episode 13 is [95.]\n",
      "Total reward for episode 14 is [95.]\n",
      "Total reward for episode 15 is [75.]\n",
      "Total reward for episode 16 is [91.]\n",
      "Total reward for episode 17 is [95.]\n",
      "Total reward for episode 18 is [95.]\n",
      "Total reward for episode 19 is [95.]\n",
      "Total reward for episode 20 is [95.]\n",
      "Total reward for episode 21 is [79.]\n",
      "Total reward for episode 22 is [95.]\n"
     ]
    }
   ],
   "source": [
    "import time\n",
    "import torch\n",
    "import numpy as np\n",
    "\n",
    "for episode in range(number_of_episodes):\n",
    "    observation = envs.reset()\n",
    "    done = np.zeros(num_envs, dtype=np.int32)\n",
    "    total_reward = 0\n",
    "\n",
    "    while not done.all():\n",
    "        action, log_prob, _, value = agent.get_optimal_action_and_value(torch.Tensor(observation).to(agent.device))\n",
    "        observation, reward, done, info = envs.step(action.cpu().numpy())\n",
    "        total_reward += reward\n",
    "\n",
    "        time.sleep(1/30)\n",
    "\n",
    "    print(f\"Total reward for episode {episode} is {total_reward}\")\n",
    "    time.sleep(2)"
   ]
  }
 ],
 "metadata": {
  "kernelspec": {
   "display_name": "doom-rlhf",
   "language": "python",
   "name": "python3"
  },
  "language_info": {
   "codemirror_mode": {
    "name": "ipython",
    "version": 3
   },
   "file_extension": ".py",
   "mimetype": "text/x-python",
   "name": "python",
   "nbconvert_exporter": "python",
   "pygments_lexer": "ipython3",
   "version": "3.9.7"
  },
  "orig_nbformat": 4
 },
 "nbformat": 4,
 "nbformat_minor": 2
}
