{
 "cells": [
  {
   "cell_type": "markdown",
   "metadata": {},
   "source": [
    "# Play Doom Level using Trained PPO Agent  "
   ]
  },
  {
   "cell_type": "code",
   "execution_count": 2,
   "metadata": {},
   "outputs": [
    {
     "name": "stdout",
     "output_type": "stream",
     "text": [
      "Loading models...\n",
      "Successfully loaded models!\n",
      "Updating networks with weights from loaded models...\n",
      "Successfully updated networks!\n"
     ]
    }
   ],
   "source": [
    "from utils.env import make_doom_env\n",
    "from agents.doom_ppo_agent import DoomPpoAgent\n",
    "import gym\n",
    "\n",
    "# Creating Environment\n",
    "num_envs = 1\n",
    "envs = gym.vector.SyncVectorEnv([ make_doom_env(level_config_path='vizdoom/scenarios/basic.cfg', render=True) for i in range(num_envs)])\n",
    "# Setting up agent\n",
    "agent = DoomPpoAgent(envs.single_observation_space, \n",
    "                     envs.single_action_space, \n",
    "                     models_path='./models/doom_ppo_agent/training_run_2023_07_07_02_24_27/checkpoint_step_292864')\n",
    "\n",
    "# Playing config\n",
    "number_of_episodes = 100"
   ]
  },
  {
   "cell_type": "code",
   "execution_count": 3,
   "metadata": {},
   "outputs": [
    {
     "name": "stdout",
     "output_type": "stream",
     "text": [
      "torch.Size([1])\n",
      "torch.Size([1])\n",
      "torch.Size([1])\n",
      "torch.Size([1])\n",
      "torch.Size([1])\n",
      "torch.Size([1])\n",
      "torch.Size([1])\n",
      "Total reward for episode 0 is [75.]\n",
      "torch.Size([1])\n",
      "torch.Size([1])\n",
      "Total reward for episode 1 is [95.]\n"
     ]
    },
    {
     "ename": "KeyboardInterrupt",
     "evalue": "",
     "output_type": "error",
     "traceback": [
      "\u001b[1;31m---------------------------------------------------------------------------\u001b[0m",
      "\u001b[1;31mKeyboardInterrupt\u001b[0m                         Traceback (most recent call last)",
      "Cell \u001b[1;32mIn[3], line 19\u001b[0m\n\u001b[0;32m     16\u001b[0m     time\u001b[39m.\u001b[39msleep(\u001b[39m1\u001b[39m\u001b[39m/\u001b[39m\u001b[39m30\u001b[39m)\n\u001b[0;32m     18\u001b[0m \u001b[39mprint\u001b[39m(\u001b[39mf\u001b[39m\u001b[39m\"\u001b[39m\u001b[39mTotal reward for episode \u001b[39m\u001b[39m{\u001b[39;00mepisode\u001b[39m}\u001b[39;00m\u001b[39m is \u001b[39m\u001b[39m{\u001b[39;00mtotal_reward\u001b[39m}\u001b[39;00m\u001b[39m\"\u001b[39m)\n\u001b[1;32m---> 19\u001b[0m time\u001b[39m.\u001b[39;49msleep(\u001b[39m2\u001b[39;49m)\n",
      "\u001b[1;31mKeyboardInterrupt\u001b[0m: "
     ]
    }
   ],
   "source": [
    "import time\n",
    "import torch\n",
    "import numpy as np\n",
    "\n",
    "for episode in range(number_of_episodes):\n",
    "    observation = envs.reset()\n",
    "    done = np.zeros(num_envs, dtype=np.int32)\n",
    "    total_reward = 0\n",
    "\n",
    "    while not done.all():\n",
    "        # Getting next action and it's value\n",
    "        with torch.no_grad():\n",
    "            action, log_prob, _, value = agent.get_optimal_action_and_value(torch.Tensor(observation).to(agent.device))\n",
    "        observation, reward, done, info = envs.step(action.cpu().numpy())\n",
    "        print(action.shape)\n",
    "        total_reward += reward\n",
    "\n",
    "        time.sleep(1/30)\n",
    "\n",
    "    print(f\"Total reward for episode {episode} is {total_reward}\")\n",
    "    time.sleep(2)"
   ]
  }
 ],
 "metadata": {
  "kernelspec": {
   "display_name": "doom-rlhf",
   "language": "python",
   "name": "python3"
  },
  "language_info": {
   "codemirror_mode": {
    "name": "ipython",
    "version": 3
   },
   "file_extension": ".py",
   "mimetype": "text/x-python",
   "name": "python",
   "nbconvert_exporter": "python",
   "pygments_lexer": "ipython3",
   "version": "3.9.7"
  },
  "orig_nbformat": 4
 },
 "nbformat": 4,
 "nbformat_minor": 2
}
