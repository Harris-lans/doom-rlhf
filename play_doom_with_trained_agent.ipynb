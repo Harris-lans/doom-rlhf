{
 "cells": [
  {
   "cell_type": "markdown",
   "metadata": {},
   "source": [
    "# Play Doom Level using Trained PPO Agent  "
   ]
  },
  {
   "cell_type": "code",
   "execution_count": 1,
   "metadata": {},
   "outputs": [
    {
     "name": "stderr",
     "output_type": "stream",
     "text": [
      "c:\\Users\\haris\\anaconda3\\envs\\doom-rlhf\\lib\\site-packages\\gymnasium\\core.py:297: UserWarning: \u001b[33mWARN: env.num_envs to get variables from other wrappers is deprecated and will be removed in v1.0, to get this variable you can do `env.unwrapped.num_envs` for environment variables or `env.get_attr('num_envs')` that will search the reminding wrappers.\u001b[0m\n",
      "  logger.warn(\n"
     ]
    },
    {
     "name": "stdout",
     "output_type": "stream",
     "text": [
      "Loading models...\n",
      "Successfully loaded models!\n",
      "Updating networks with weights from loaded models...\n",
      "Successfully updated networks!\n"
     ]
    }
   ],
   "source": [
    "from utils.env import make_vizdoom_env\n",
    "from agents.doom_ppo_agent import DoomPpoAgent\n",
    "import gymnasium as gym\n",
    "\n",
    "# Creating Environment\n",
    "num_envs = 1\n",
    "envs = gym.vector.SyncVectorEnv([ make_vizdoom_env(level='envs/vizdoom/scenarios/basic.cfg', render_mode=\"human\") for i in range(num_envs)])\n",
    "\n",
    "# Setting up agent\n",
    "agent = DoomPpoAgent(envs.single_observation_space, \n",
    "                     envs.single_action_space,\n",
    "                     use_gpu=True)\n",
    "agent.load_models(path='./models/rlhf_pipeline/training_run_2023_08_11_20_13_17/doom_ppo_agent/checkpoint_step_45056')\n",
    "\n",
    "# Playing config\n",
    "number_of_episodes = 50"
   ]
  },
  {
   "cell_type": "code",
   "execution_count": 2,
   "metadata": {},
   "outputs": [
    {
     "name": "stderr",
     "output_type": "stream",
     "text": [
      "e:\\Study\\University of London\\Semester 6\\Final Project\\doom-rlhf\\agents\\base_ppo_agent.py:148: UserWarning: To copy construct from a tensor, it is recommended to use sourceTensor.clone().detach() or sourceTensor.clone().detach().requires_grad_(True), rather than torch.tensor(sourceTensor).\n",
      "  observations = torch.tensor(observations).to(self.device)\n"
     ]
    },
    {
     "name": "stdout",
     "output_type": "stream",
     "text": [
      "Total reward for episode 0 is [-80.]\n",
      "Total reward for episode 1 is [58.]\n",
      "Total reward for episode 2 is [-133.]\n",
      "Total reward for episode 3 is [-335.]\n",
      "Total reward for episode 4 is [12.]\n",
      "Total reward for episode 5 is [-248.]\n",
      "Total reward for episode 6 is [69.]\n",
      "Total reward for episode 7 is [68.]\n",
      "Total reward for episode 8 is [34.]\n",
      "Total reward for episode 9 is [35.]\n",
      "Total reward for episode 10 is [-199.]\n",
      "Total reward for episode 11 is [-86.]\n",
      "Total reward for episode 12 is [54.]\n",
      "Total reward for episode 13 is [-74.]\n",
      "Total reward for episode 14 is [-47.]\n",
      "Total reward for episode 15 is [31.]\n",
      "Total reward for episode 16 is [-186.]\n",
      "Total reward for episode 17 is [-345.]\n",
      "Total reward for episode 18 is [54.]\n",
      "Total reward for episode 19 is [-355.]\n",
      "Total reward for episode 20 is [-236.]\n",
      "Total reward for episode 21 is [-239.]\n",
      "Total reward for episode 22 is [-330.]\n",
      "Total reward for episode 23 is [-355.]\n",
      "Total reward for episode 24 is [-4.]\n",
      "Total reward for episode 25 is [-50.]\n",
      "Total reward for episode 26 is [86.]\n",
      "Total reward for episode 27 is [-365.]\n",
      "Total reward for episode 28 is [-190.]\n",
      "Total reward for episode 29 is [74.]\n",
      "Total reward for episode 30 is [-132.]\n",
      "Total reward for episode 31 is [-184.]\n",
      "Total reward for episode 32 is [38.]\n",
      "Total reward for episode 33 is [-20.]\n",
      "Total reward for episode 34 is [6.]\n",
      "Total reward for episode 35 is [13.]\n",
      "Total reward for episode 36 is [86.]\n",
      "Total reward for episode 37 is [-300.]\n",
      "Total reward for episode 38 is [-25.]\n",
      "Total reward for episode 39 is [-133.]\n",
      "Total reward for episode 40 is [36.]\n",
      "Total reward for episode 41 is [37.]\n",
      "Total reward for episode 42 is [-345.]\n",
      "Total reward for episode 43 is [15.]\n",
      "Total reward for episode 44 is [54.]\n",
      "Total reward for episode 45 is [-66.]\n",
      "Total reward for episode 46 is [-96.]\n",
      "Total reward for episode 47 is [71.]\n",
      "Total reward for episode 48 is [37.]\n",
      "Total reward for episode 49 is [-163.]\n",
      "Average reward per episode is [-87.06]\n"
     ]
    }
   ],
   "source": [
    "import time\n",
    "import torch\n",
    "import numpy as np\n",
    "\n",
    "total_rewards = 0\n",
    "\n",
    "for episode in range(number_of_episodes):\n",
    "    observations, infos = envs.reset()\n",
    "    terminations = np.zeros(num_envs, dtype=np.int32)\n",
    "    total_episode_rewards = 0\n",
    "\n",
    "    while not terminations.all():\n",
    "        # Getting next action and it's value\n",
    "        action, log_prob, _, value = agent.forward(torch.Tensor(observations))\n",
    "        observations, rewards, terminations, truncations, infos = envs.step(action)\n",
    "        total_episode_rewards += rewards\n",
    "\n",
    "        time.sleep(1/30)\n",
    "\n",
    "    print(f\"Total reward for episode {episode} is {total_episode_rewards}\")\n",
    "    total_rewards += total_episode_rewards\n",
    "\n",
    "    time.sleep(0.25)\n",
    "\n",
    "print(f\"Average reward per episode is {total_rewards / number_of_episodes}\")"
   ]
  },
  {
   "cell_type": "code",
   "execution_count": 3,
   "metadata": {},
   "outputs": [],
   "source": [
    "envs.close()"
   ]
  }
 ],
 "metadata": {
  "kernelspec": {
   "display_name": "doom-rlhf",
   "language": "python",
   "name": "python3"
  },
  "language_info": {
   "codemirror_mode": {
    "name": "ipython",
    "version": 3
   },
   "file_extension": ".py",
   "mimetype": "text/x-python",
   "name": "python",
   "nbconvert_exporter": "python",
   "pygments_lexer": "ipython3",
   "version": "3.9.7"
  },
  "orig_nbformat": 4
 },
 "nbformat": 4,
 "nbformat_minor": 2
}
