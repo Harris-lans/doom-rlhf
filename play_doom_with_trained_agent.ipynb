{
 "cells": [
  {
   "cell_type": "markdown",
   "metadata": {},
   "source": [
    "# Play Doom Level using Trained PPO Agent  "
   ]
  },
  {
   "cell_type": "code",
   "execution_count": 1,
   "metadata": {},
   "outputs": [
    {
     "name": "stderr",
     "output_type": "stream",
     "text": [
      "c:\\Users\\haris\\anaconda3\\envs\\doom-rlhf\\lib\\site-packages\\gymnasium\\core.py:297: UserWarning: \u001b[33mWARN: env.num_envs to get variables from other wrappers is deprecated and will be removed in v1.0, to get this variable you can do `env.unwrapped.num_envs` for environment variables or `env.get_attr('num_envs')` that will search the reminding wrappers.\u001b[0m\n",
      "  logger.warn(\n"
     ]
    },
    {
     "name": "stdout",
     "output_type": "stream",
     "text": [
      "Loading models...\n",
      "Successfully loaded models!\n",
      "Updating networks with weights from loaded models...\n",
      "Successfully updated networks!\n"
     ]
    }
   ],
   "source": [
    "from utils.env import make_vizdoom_env\n",
    "from agents.doom_ppo_agent import DoomPpoAgent\n",
    "import gymnasium as gym\n",
    "import torch\n",
    "\n",
    "# Creating Environment\n",
    "num_envs = 1\n",
    "envs = gym.vector.SyncVectorEnv([ make_vizdoom_env(level='envs/vizdoom/scenarios/basic.cfg', render_mode=\"human\") for i in range(num_envs)])\n",
    "\n",
    "# Setting up agent\n",
    "agent = DoomPpoAgent(envs.single_observation_space, \n",
    "                     envs.single_action_space,\n",
    "                     use_gpu=True)\n",
    "agent.load_models(path='./models/rlhf_pipeline/training_run_2023_08_03_23_09_28/doom_ppo_agent/checkpoint_step_73728')\n",
    "\n",
    "# Playing config\n",
    "number_of_episodes = 50"
   ]
  },
  {
   "cell_type": "code",
   "execution_count": 2,
   "metadata": {},
   "outputs": [
    {
     "name": "stderr",
     "output_type": "stream",
     "text": [
      "e:\\Study\\University of London\\Semester 6\\Final Project\\doom-rlhf\\agents\\base_ppo_agent.py:148: UserWarning: To copy construct from a tensor, it is recommended to use sourceTensor.clone().detach() or sourceTensor.clone().detach().requires_grad_(True), rather than torch.tensor(sourceTensor).\n",
      "  observations = torch.tensor(observations).to(self.device)\n"
     ]
    },
    {
     "name": "stdout",
     "output_type": "stream",
     "text": [
      "Total reward for episode 0 is [92.]\n",
      "Total reward for episode 1 is [-395.]\n",
      "Total reward for episode 2 is [-385.]\n",
      "Total reward for episode 3 is [-395.]\n",
      "Total reward for episode 4 is [-390.]\n"
     ]
    }
   ],
   "source": [
    "import time\n",
    "import torch\n",
    "import numpy as np\n",
    "\n",
    "for episode in range(number_of_episodes):\n",
    "    observations, infos = envs.reset()\n",
    "    terminations = np.zeros(num_envs, dtype=np.int32)\n",
    "    total_rewards = 0\n",
    "\n",
    "    while not terminations.all():\n",
    "        # Getting next action and it's value\n",
    "        action, log_prob, _, value = agent.forward(torch.Tensor(observations))\n",
    "        observations, rewards, terminations, truncations, infos = envs.step(action)\n",
    "        total_rewards += rewards\n",
    "\n",
    "        time.sleep(1/30)\n",
    "\n",
    "    print(f\"Total reward for episode {episode} is {total_rewards}\")\n",
    "    time.sleep(0.25)"
   ]
  },
  {
   "cell_type": "code",
   "execution_count": null,
   "metadata": {},
   "outputs": [],
   "source": [
    "envs.close()"
   ]
  }
 ],
 "metadata": {
  "kernelspec": {
   "display_name": "doom-rlhf",
   "language": "python",
   "name": "python3"
  },
  "language_info": {
   "codemirror_mode": {
    "name": "ipython",
    "version": 3
   },
   "file_extension": ".py",
   "mimetype": "text/x-python",
   "name": "python",
   "nbconvert_exporter": "python",
   "pygments_lexer": "ipython3",
   "version": "3.9.7"
  },
  "orig_nbformat": 4
 },
 "nbformat": 4,
 "nbformat_minor": 2
}
